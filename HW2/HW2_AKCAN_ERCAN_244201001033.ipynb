{
 "cells": [
  {
   "cell_type": "markdown",
   "source": [
    "### Import Librarires And Dataset"
   ],
   "metadata": {
    "collapsed": false
   },
   "id": "cfb530db8c23b6ef"
  },
  {
   "cell_type": "code",
   "outputs": [],
   "source": [
    "import warnings\n",
    "import numpy as np\n",
    "import pandas as pd\n",
    "from sklearn.model_selection import train_test_split\n",
    "\n",
    "#some settings to show data\n",
    "warnings.filterwarnings('ignore')\n",
    "pd.set_option('display.max_columns', 50)\n",
    "pd.set_option('display.max_rows', 50)\n",
    "\n",
    "# target_url = (\"http://archive.ics.uci.edu/ml/machine-learning-databases/abalone/abalone.data\")\n",
    "target_url = (\"datasets/abalone.data\")\n",
    "abalone = pd.read_csv(target_url)\n",
    "abalone.columns = ['Sex', 'Length', 'Diameter', 'Height', 'Whole weight', 'Shucked weight', 'Viscera weight',\n",
    "                   'Shell weight', 'Rings']"
   ],
   "metadata": {
    "collapsed": false
   },
   "id": "c8c4930521663c7e",
   "execution_count": null
  },
  {
   "cell_type": "markdown",
   "source": [
    "### Analyze the Data"
   ],
   "metadata": {
    "collapsed": false
   },
   "id": "b2c4fa2833ff788d"
  },
  {
   "cell_type": "code",
   "outputs": [],
   "source": [
    "abalone.head()"
   ],
   "metadata": {
    "collapsed": false
   },
   "id": "231f1ce4be95c7fa",
   "execution_count": null
  },
  {
   "cell_type": "code",
   "outputs": [],
   "source": [
    "abalone.describe()"
   ],
   "metadata": {
    "collapsed": false
   },
   "id": "65dc4f2d535788e0",
   "execution_count": null
  },
  {
   "cell_type": "code",
   "outputs": [],
   "source": [
    "abalone.info()"
   ],
   "metadata": {
    "collapsed": false
   },
   "id": "c508677f8a21b077",
   "execution_count": null
  },
  {
   "cell_type": "markdown",
   "source": [
    "**Get target value**"
   ],
   "metadata": {
    "collapsed": false
   },
   "id": "66d15bd1c01a1"
  },
  {
   "cell_type": "code",
   "outputs": [],
   "source": [
    "y = abalone[\"Rings\"]\n",
    "X = abalone.drop(columns=\"Rings\")"
   ],
   "metadata": {
    "collapsed": false
   },
   "id": "2d2a1e172874f51",
   "execution_count": null
  },
  {
   "cell_type": "code",
   "outputs": [],
   "source": [
    "X_train, X_test, y_train, y_test = train_test_split(X, y, test_size=0.3)"
   ],
   "metadata": {
    "collapsed": false
   },
   "id": "e31fe217d30861a7",
   "execution_count": null
  },
  {
   "cell_type": "code",
   "outputs": [],
   "source": [
    "def is_numeric(x):\n",
    "    return x == 'int' or x == 'float'\n",
    "    # return int(x == 'int' or x == 'float')"
   ],
   "metadata": {
    "collapsed": false
   },
   "id": "b42f27354deed265",
   "execution_count": null
  },
  {
   "cell_type": "code",
   "outputs": [],
   "source": [
    "def is_numeric_v2(value):\n",
    "    return isinstance(value, int) or isinstance(value, float)"
   ],
   "metadata": {
    "collapsed": false
   },
   "id": "1ffcf29cc70d76ce",
   "execution_count": null
  },
  {
   "cell_type": "code",
   "outputs": [],
   "source": [
    "attribute_types = X_train.dtypes.apply(is_numeric)\n",
    "attribute_types"
   ],
   "metadata": {
    "collapsed": false
   },
   "id": "b16d63f96dfdaf59",
   "execution_count": null
  },
  {
   "cell_type": "code",
   "outputs": [],
   "source": [
    "def build_dt(X, y, attribute_types, options=False):\n",
    "    print(\"any implemantation\")"
   ],
   "metadata": {
    "collapsed": false
   },
   "id": "308214edd458b0fd",
   "execution_count": null
  },
  {
   "cell_type": "code",
   "outputs": [],
   "source": [
    "build_dt(X_train, y_train, attribute_types)"
   ],
   "metadata": {
    "collapsed": false
   },
   "id": "f7ff284eb0f8a17b",
   "execution_count": null
  },
  {
   "cell_type": "code",
   "outputs": [],
   "source": [],
   "metadata": {
    "collapsed": false
   },
   "id": "facb76282a68f065"
  }
 ],
 "metadata": {
  "kernelspec": {
   "display_name": "Python 3",
   "language": "python",
   "name": "python3"
  },
  "language_info": {
   "codemirror_mode": {
    "name": "ipython",
    "version": 2
   },
   "file_extension": ".py",
   "mimetype": "text/x-python",
   "name": "python",
   "nbconvert_exporter": "python",
   "pygments_lexer": "ipython2",
   "version": "2.7.6"
  }
 },
 "nbformat": 4,
 "nbformat_minor": 5
}
