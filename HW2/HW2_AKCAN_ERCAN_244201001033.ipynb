{
 "cells": [
  {
   "cell_type": "markdown",
   "source": [
    "veri görselleştirme https://batuhandaz.medium.com/decision-tree-algoritmas%C4%B1-karar-a%C4%9Fac%C4%B1-machine-learning-78d856b1f457\n",
    "https://ece-akdagli.medium.com/makine-%C3%B6%C4%9Frenmesinde-decision-tree-42a86502ee75\n",
    "https://erdincuzun.com/makine_ogrenmesi/decision-tree-karar-agaci-id3-algoritmasi-classification-siniflama/"
   ],
   "metadata": {
    "collapsed": false
   },
   "id": "1d5a7b5fedced1fc"
  },
  {
   "cell_type": "markdown",
   "source": [
    "### Import Librarires And Dataset"
   ],
   "metadata": {
    "collapsed": false
   },
   "id": "cfb530db8c23b6ef"
  },
  {
   "cell_type": "code",
   "outputs": [],
   "source": [
    "import warnings\n",
    "import numpy as np\n",
    "import pandas as pd\n",
    "from sklearn.model_selection import train_test_split\n",
    "\n",
    "#some settings to show data\n",
    "warnings.filterwarnings('ignore')\n",
    "pd.set_option('display.max_columns', 50)\n",
    "pd.set_option('display.max_rows', 50)\n",
    "\n",
    "# target_url = (\"http://archive.ics.uci.edu/ml/machine-learning-databases/abalone/abalone.data\")\n",
    "target_url = (\"datasets/abalone.data\")\n",
    "abalone = pd.read_csv(target_url)\n",
    "headers = ['Sex', 'Length', 'Diameter', 'Height', 'Whole weight', 'Shucked weight', 'Viscera weight', 'Shell weight',\n",
    "           'Rings']\n",
    "abalone.columns = headers"
   ],
   "metadata": {
    "collapsed": false
   },
   "id": "c8c4930521663c7e",
   "execution_count": null
  },
  {
   "cell_type": "markdown",
   "source": [
    "### Analyze the Data"
   ],
   "metadata": {
    "collapsed": false
   },
   "id": "b2c4fa2833ff788d"
  },
  {
   "cell_type": "code",
   "outputs": [],
   "source": [
    "abalone.head()"
   ],
   "metadata": {
    "collapsed": false
   },
   "id": "231f1ce4be95c7fa",
   "execution_count": null
  },
  {
   "cell_type": "code",
   "outputs": [],
   "source": [
    "abalone.describe()"
   ],
   "metadata": {
    "collapsed": false
   },
   "id": "65dc4f2d535788e0",
   "execution_count": null
  },
  {
   "cell_type": "code",
   "outputs": [],
   "source": [
    "abalone.info()"
   ],
   "metadata": {
    "collapsed": false
   },
   "id": "c508677f8a21b077",
   "execution_count": null
  },
  {
   "cell_type": "markdown",
   "source": [
    "**Get target value**"
   ],
   "metadata": {
    "collapsed": false
   },
   "id": "66d15bd1c01a1"
  },
  {
   "cell_type": "code",
   "outputs": [],
   "source": [
    "X = abalone.drop(columns=\"Rings\")\n",
    "y = abalone[\"Rings\"]\n",
    "X['Sex'] = abalone['Sex'].replace({'F':0,'M':1,'I':2})"
   ],
   "metadata": {
    "collapsed": false,
    "ExecuteTime": {
     "end_time": "2024-04-26T20:37:44.690742Z",
     "start_time": "2024-04-26T20:37:44.686964Z"
    }
   },
   "id": "2d2a1e172874f51",
   "execution_count": 38
  },
  {
   "cell_type": "code",
   "outputs": [],
   "source": [
    "X_train, X_test, y_train, y_test = train_test_split(X, y, test_size=0.3)"
   ],
   "metadata": {
    "collapsed": false,
    "ExecuteTime": {
     "end_time": "2024-04-26T20:37:45.093819Z",
     "start_time": "2024-04-26T20:37:45.090608Z"
    }
   },
   "id": "e31fe217d30861a7",
   "execution_count": 39
  },
  {
   "cell_type": "code",
   "outputs": [
    {
     "data": {
      "text/plain": "      Sex  Length  Diameter  Height  Whole weight  Shucked weight  \\\n1245    2   0.390     0.300   0.095        0.3265          0.1665   \n860     0   0.595     0.465   0.140        1.1130          0.5175   \n3675    0   0.600     0.500   0.160        1.1220          0.5095   \n1712    1   0.645     0.500   0.175        1.3375          0.5540   \n896     2   0.265     0.195   0.060        0.0920          0.0345   \n...   ...     ...       ...     ...           ...             ...   \n252     0   0.575     0.460   0.185        1.0940          0.4485   \n2020    1   0.525     0.410   0.130        0.6875          0.3435   \n3196    2   0.310     0.235   0.075        0.1515          0.0560   \n3268    0   0.595     0.465   0.145        1.1070          0.4020   \n2502    2   0.300     0.230   0.075        0.1270          0.0520   \n\n      Viscera weight  Shell weight  \n1245          0.0575        0.0890  \n860           0.2440        0.3050  \n3675          0.2560        0.3090  \n1712          0.3080        0.4150  \n896           0.0250        0.0245  \n...              ...           ...  \n252           0.2170        0.3450  \n2020          0.1495        0.1765  \n3196          0.0315        0.0500  \n3268          0.2415        0.3100  \n2502          0.0300        0.0345  \n\n[2923 rows x 8 columns]",
      "text/html": "<div>\n<style scoped>\n    .dataframe tbody tr th:only-of-type {\n        vertical-align: middle;\n    }\n\n    .dataframe tbody tr th {\n        vertical-align: top;\n    }\n\n    .dataframe thead th {\n        text-align: right;\n    }\n</style>\n<table border=\"1\" class=\"dataframe\">\n  <thead>\n    <tr style=\"text-align: right;\">\n      <th></th>\n      <th>Sex</th>\n      <th>Length</th>\n      <th>Diameter</th>\n      <th>Height</th>\n      <th>Whole weight</th>\n      <th>Shucked weight</th>\n      <th>Viscera weight</th>\n      <th>Shell weight</th>\n    </tr>\n  </thead>\n  <tbody>\n    <tr>\n      <th>1245</th>\n      <td>2</td>\n      <td>0.390</td>\n      <td>0.300</td>\n      <td>0.095</td>\n      <td>0.3265</td>\n      <td>0.1665</td>\n      <td>0.0575</td>\n      <td>0.0890</td>\n    </tr>\n    <tr>\n      <th>860</th>\n      <td>0</td>\n      <td>0.595</td>\n      <td>0.465</td>\n      <td>0.140</td>\n      <td>1.1130</td>\n      <td>0.5175</td>\n      <td>0.2440</td>\n      <td>0.3050</td>\n    </tr>\n    <tr>\n      <th>3675</th>\n      <td>0</td>\n      <td>0.600</td>\n      <td>0.500</td>\n      <td>0.160</td>\n      <td>1.1220</td>\n      <td>0.5095</td>\n      <td>0.2560</td>\n      <td>0.3090</td>\n    </tr>\n    <tr>\n      <th>1712</th>\n      <td>1</td>\n      <td>0.645</td>\n      <td>0.500</td>\n      <td>0.175</td>\n      <td>1.3375</td>\n      <td>0.5540</td>\n      <td>0.3080</td>\n      <td>0.4150</td>\n    </tr>\n    <tr>\n      <th>896</th>\n      <td>2</td>\n      <td>0.265</td>\n      <td>0.195</td>\n      <td>0.060</td>\n      <td>0.0920</td>\n      <td>0.0345</td>\n      <td>0.0250</td>\n      <td>0.0245</td>\n    </tr>\n    <tr>\n      <th>...</th>\n      <td>...</td>\n      <td>...</td>\n      <td>...</td>\n      <td>...</td>\n      <td>...</td>\n      <td>...</td>\n      <td>...</td>\n      <td>...</td>\n    </tr>\n    <tr>\n      <th>252</th>\n      <td>0</td>\n      <td>0.575</td>\n      <td>0.460</td>\n      <td>0.185</td>\n      <td>1.0940</td>\n      <td>0.4485</td>\n      <td>0.2170</td>\n      <td>0.3450</td>\n    </tr>\n    <tr>\n      <th>2020</th>\n      <td>1</td>\n      <td>0.525</td>\n      <td>0.410</td>\n      <td>0.130</td>\n      <td>0.6875</td>\n      <td>0.3435</td>\n      <td>0.1495</td>\n      <td>0.1765</td>\n    </tr>\n    <tr>\n      <th>3196</th>\n      <td>2</td>\n      <td>0.310</td>\n      <td>0.235</td>\n      <td>0.075</td>\n      <td>0.1515</td>\n      <td>0.0560</td>\n      <td>0.0315</td>\n      <td>0.0500</td>\n    </tr>\n    <tr>\n      <th>3268</th>\n      <td>0</td>\n      <td>0.595</td>\n      <td>0.465</td>\n      <td>0.145</td>\n      <td>1.1070</td>\n      <td>0.4020</td>\n      <td>0.2415</td>\n      <td>0.3100</td>\n    </tr>\n    <tr>\n      <th>2502</th>\n      <td>2</td>\n      <td>0.300</td>\n      <td>0.230</td>\n      <td>0.075</td>\n      <td>0.1270</td>\n      <td>0.0520</td>\n      <td>0.0300</td>\n      <td>0.0345</td>\n    </tr>\n  </tbody>\n</table>\n<p>2923 rows × 8 columns</p>\n</div>"
     },
     "execution_count": 40,
     "metadata": {},
     "output_type": "execute_result"
    }
   ],
   "source": [
    "from sklearn.preprocessing import StandardScaler\n",
    "scaler = StandardScaler()\n",
    "scaler.fit(X_train)"
   ],
   "metadata": {
    "collapsed": false,
    "ExecuteTime": {
     "end_time": "2024-04-26T20:37:45.479692Z",
     "start_time": "2024-04-26T20:37:45.470506Z"
    }
   },
   "id": "5d7989fd7be23673",
   "execution_count": 40
  },
  {
   "cell_type": "code",
   "outputs": [],
   "source": [
    "def is_numeric(x):\n",
    "    return x == 'int' or x == 'float'\n",
    "    # return int(x == 'int' or x == 'float')"
   ],
   "metadata": {
    "collapsed": false
   },
   "id": "b42f27354deed265",
   "execution_count": null
  },
  {
   "cell_type": "code",
   "outputs": [],
   "source": [
    "attribute_types = X_train.dtypes.apply(is_numeric)\n",
    "attribute_types"
   ],
   "metadata": {
    "collapsed": false
   },
   "id": "b16d63f96dfdaf59",
   "execution_count": null
  },
  {
   "cell_type": "code",
   "outputs": [],
   "source": [
    "def build_dt(X, y, attribute_types, options=False):\n",
    "    print(\"any implemantation\")"
   ],
   "metadata": {
    "collapsed": false
   },
   "id": "308214edd458b0fd",
   "execution_count": null
  },
  {
   "cell_type": "code",
   "outputs": [],
   "source": [
    "build_dt(X_train, y_train, attribute_types)"
   ],
   "metadata": {
    "collapsed": false
   },
   "id": "f7ff284eb0f8a17b",
   "execution_count": null
  },
  {
   "cell_type": "code",
   "outputs": [],
   "source": [
    "class Question:\n",
    "    def __init__(self, column, value):\n",
    "        self.column = column\n",
    "        self.value = value\n",
    "\n",
    "    def __repr__(self):\n",
    "        condition = \"==\"\n",
    "        if is_numeric(self.value):\n",
    "            condition = \">=\"\n",
    "        return f\"Is {headers[self.column]} {condition} {self.value}\"\n",
    "\n",
    "    def match(self, example):\n",
    "        val = example[self.column]\n",
    "        if is_numeric(val):\n",
    "            return val >= self.value\n",
    "        else:\n",
    "            return val == self.value"
   ],
   "metadata": {
    "collapsed": false
   },
   "id": "4597c4665ea8e7a9",
   "execution_count": null
  },
  {
   "cell_type": "code",
   "outputs": [],
   "source": [
    "example = list(X_train.iloc[0])\n",
    "q = Question(0, \"M\")\n",
    "q.match(example)"
   ],
   "metadata": {
    "collapsed": false
   },
   "id": "d838ac3a6386c270",
   "execution_count": null
  },
  {
   "cell_type": "code",
   "outputs": [],
   "source": [
    "def partition(df, question):\n",
    "    true_rows, false_rows = [], []\n",
    "    for row in df.values:\n",
    "        if question.match(row):\n",
    "            true_rows.append(row)\n",
    "        else:\n",
    "            false_rows.append(row)\n",
    "    return true_rows, false_rows"
   ],
   "metadata": {
    "collapsed": false
   },
   "id": "9af4a59dea1e1e76",
   "execution_count": null
  },
  {
   "cell_type": "code",
   "outputs": [],
   "source": [
    "true_rows, false_rows = partition(X_train, Question(0, 'M'))\n",
    "true_rows"
   ],
   "metadata": {
    "collapsed": false
   },
   "id": "b7c8165310c7caf7",
   "execution_count": null
  },
  {
   "cell_type": "code",
   "outputs": [],
   "source": [
    "def class_counts(rows):\n",
    "    counts = {}  # a dictionary of label -> count.\n",
    "    for row in rows:\n",
    "        # in our dataset format, the label is always the last column\n",
    "        label = row[-1]\n",
    "        if label not in counts:\n",
    "            counts[label] = 0\n",
    "        counts[label] += 1\n",
    "    return counts"
   ],
   "metadata": {
    "collapsed": false
   },
   "id": "d39d812eda353f2a",
   "execution_count": null
  },
  {
   "cell_type": "code",
   "outputs": [],
   "source": [
    "counts = class_counts(X_train.values)\n",
    "print(counts)"
   ],
   "metadata": {
    "collapsed": false
   },
   "id": "d8ded9b8454dc4f9",
   "execution_count": null
  },
  {
   "cell_type": "code",
   "outputs": [],
   "source": [
    "def gini(rows):\n",
    "    # There are some ways, but I use gini impurity : https://medium.com/machine-learning-t%C3%BCrkiye/karar-agaclari-algoritmasi-b823c23997d0\n",
    "    counts = class_counts(rows)\n",
    "    impurity = 1\n",
    "    for lbl in counts:\n",
    "        prob_of_lbl = counts[lbl] / float(len(rows))\n",
    "        impurity -= prob_of_lbl ** 2\n",
    "    return impurity"
   ],
   "metadata": {
    "collapsed": false
   },
   "id": "f162d228fb03adfc",
   "execution_count": null
  }
 ],
 "metadata": {
  "kernelspec": {
   "display_name": "Python 3",
   "language": "python",
   "name": "python3"
  },
  "language_info": {
   "codemirror_mode": {
    "name": "ipython",
    "version": 2
   },
   "file_extension": ".py",
   "mimetype": "text/x-python",
   "name": "python",
   "nbconvert_exporter": "python",
   "pygments_lexer": "ipython2",
   "version": "2.7.6"
  }
 },
 "nbformat": 4,
 "nbformat_minor": 5
}
