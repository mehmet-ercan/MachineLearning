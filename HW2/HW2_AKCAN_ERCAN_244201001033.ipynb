{
 "cells": [
  {
   "cell_type": "markdown",
   "source": [
    "### Import Librarires And Dataset"
   ],
   "metadata": {
    "collapsed": false
   },
   "id": "cfb530db8c23b6ef"
  },
  {
   "cell_type": "code",
   "outputs": [],
   "source": [
    "import warnings\n",
    "import numpy as np\n",
    "import pandas as pd\n",
    "from sklearn.model_selection import train_test_split\n",
    "\n",
    "#some settings to show data\n",
    "warnings.filterwarnings('ignore')\n",
    "pd.set_option('display.max_columns', 50)\n",
    "pd.set_option('display.max_rows', 50)\n",
    "\n",
    "# target_url = (\"http://archive.ics.uci.edu/ml/machine-learning-databases/abalone/abalone.data\")\n",
    "target_url = (\"datasets/abalone.data\")\n",
    "abalone = pd.read_csv(target_url)\n",
    "abalone.columns = ['Sex', 'Length', 'Diameter', 'Height', 'Whole weight', 'Shucked weight', 'Viscera weight', 'Shell weight', 'Rings']"
   ],
   "metadata": {
    "collapsed": false,
    "ExecuteTime": {
     "end_time": "2024-04-19T20:47:14.248886Z",
     "start_time": "2024-04-19T20:47:14.242989Z"
    }
   },
   "id": "c8c4930521663c7e",
   "execution_count": 53
  },
  {
   "cell_type": "markdown",
   "source": [
    "### Clean and Analyze the Data"
   ],
   "metadata": {
    "collapsed": false
   },
   "id": "b2c4fa2833ff788d"
  },
  {
   "cell_type": "code",
   "outputs": [
    {
     "data": {
      "text/plain": "  Sex  Length  Diameter  Height  Whole weight  Shucked weight  Viscera weight  \\\n0   M   0.350     0.265   0.090        0.2255          0.0995          0.0485   \n1   F   0.530     0.420   0.135        0.6770          0.2565          0.1415   \n2   M   0.440     0.365   0.125        0.5160          0.2155          0.1140   \n3   I   0.330     0.255   0.080        0.2050          0.0895          0.0395   \n4   I   0.425     0.300   0.095        0.3515          0.1410          0.0775   \n\n   Shell weight  Rings  \n0         0.070      7  \n1         0.210      9  \n2         0.155     10  \n3         0.055      7  \n4         0.120      8  ",
      "text/html": "<div>\n<style scoped>\n    .dataframe tbody tr th:only-of-type {\n        vertical-align: middle;\n    }\n\n    .dataframe tbody tr th {\n        vertical-align: top;\n    }\n\n    .dataframe thead th {\n        text-align: right;\n    }\n</style>\n<table border=\"1\" class=\"dataframe\">\n  <thead>\n    <tr style=\"text-align: right;\">\n      <th></th>\n      <th>Sex</th>\n      <th>Length</th>\n      <th>Diameter</th>\n      <th>Height</th>\n      <th>Whole weight</th>\n      <th>Shucked weight</th>\n      <th>Viscera weight</th>\n      <th>Shell weight</th>\n      <th>Rings</th>\n    </tr>\n  </thead>\n  <tbody>\n    <tr>\n      <th>0</th>\n      <td>M</td>\n      <td>0.350</td>\n      <td>0.265</td>\n      <td>0.090</td>\n      <td>0.2255</td>\n      <td>0.0995</td>\n      <td>0.0485</td>\n      <td>0.070</td>\n      <td>7</td>\n    </tr>\n    <tr>\n      <th>1</th>\n      <td>F</td>\n      <td>0.530</td>\n      <td>0.420</td>\n      <td>0.135</td>\n      <td>0.6770</td>\n      <td>0.2565</td>\n      <td>0.1415</td>\n      <td>0.210</td>\n      <td>9</td>\n    </tr>\n    <tr>\n      <th>2</th>\n      <td>M</td>\n      <td>0.440</td>\n      <td>0.365</td>\n      <td>0.125</td>\n      <td>0.5160</td>\n      <td>0.2155</td>\n      <td>0.1140</td>\n      <td>0.155</td>\n      <td>10</td>\n    </tr>\n    <tr>\n      <th>3</th>\n      <td>I</td>\n      <td>0.330</td>\n      <td>0.255</td>\n      <td>0.080</td>\n      <td>0.2050</td>\n      <td>0.0895</td>\n      <td>0.0395</td>\n      <td>0.055</td>\n      <td>7</td>\n    </tr>\n    <tr>\n      <th>4</th>\n      <td>I</td>\n      <td>0.425</td>\n      <td>0.300</td>\n      <td>0.095</td>\n      <td>0.3515</td>\n      <td>0.1410</td>\n      <td>0.0775</td>\n      <td>0.120</td>\n      <td>8</td>\n    </tr>\n  </tbody>\n</table>\n</div>"
     },
     "execution_count": 54,
     "metadata": {},
     "output_type": "execute_result"
    }
   ],
   "source": [
    "abalone.head()"
   ],
   "metadata": {
    "collapsed": false,
    "ExecuteTime": {
     "end_time": "2024-04-19T20:47:14.267815Z",
     "start_time": "2024-04-19T20:47:14.251269Z"
    }
   },
   "id": "231f1ce4be95c7fa",
   "execution_count": 54
  },
  {
   "cell_type": "code",
   "outputs": [
    {
     "data": {
      "text/plain": "Sex               0\nLength            0\nDiameter          0\nHeight            0\nWhole weight      0\nShucked weight    0\nViscera weight    0\nShell weight      0\nRings             0\ndtype: int64"
     },
     "execution_count": 55,
     "metadata": {},
     "output_type": "execute_result"
    }
   ],
   "source": [
    "abalone.isnull().sum(axis = 0)"
   ],
   "metadata": {
    "collapsed": false,
    "ExecuteTime": {
     "end_time": "2024-04-19T20:47:14.276740Z",
     "start_time": "2024-04-19T20:47:14.268640Z"
    }
   },
   "id": "20f8beabdb684873",
   "execution_count": 55
  },
  {
   "cell_type": "code",
   "outputs": [
    {
     "data": {
      "text/plain": "            Length     Diameter       Height  Whole weight  Shucked weight  \\\ncount  4176.000000  4176.000000  4176.000000   4176.000000      4176.00000   \nmean      0.524009     0.407892     0.139527      0.828818         0.35940   \nstd       0.120103     0.099250     0.041826      0.490424         0.22198   \nmin       0.075000     0.055000     0.000000      0.002000         0.00100   \n25%       0.450000     0.350000     0.115000      0.441500         0.18600   \n50%       0.545000     0.425000     0.140000      0.799750         0.33600   \n75%       0.615000     0.480000     0.165000      1.153250         0.50200   \nmax       0.815000     0.650000     1.130000      2.825500         1.48800   \n\n       Viscera weight  Shell weight        Rings  \ncount     4176.000000   4176.000000  4176.000000  \nmean         0.180613      0.238852     9.932471  \nstd          0.109620      0.139213     3.223601  \nmin          0.000500      0.001500     1.000000  \n25%          0.093375      0.130000     8.000000  \n50%          0.171000      0.234000     9.000000  \n75%          0.253000      0.329000    11.000000  \nmax          0.760000      1.005000    29.000000  ",
      "text/html": "<div>\n<style scoped>\n    .dataframe tbody tr th:only-of-type {\n        vertical-align: middle;\n    }\n\n    .dataframe tbody tr th {\n        vertical-align: top;\n    }\n\n    .dataframe thead th {\n        text-align: right;\n    }\n</style>\n<table border=\"1\" class=\"dataframe\">\n  <thead>\n    <tr style=\"text-align: right;\">\n      <th></th>\n      <th>Length</th>\n      <th>Diameter</th>\n      <th>Height</th>\n      <th>Whole weight</th>\n      <th>Shucked weight</th>\n      <th>Viscera weight</th>\n      <th>Shell weight</th>\n      <th>Rings</th>\n    </tr>\n  </thead>\n  <tbody>\n    <tr>\n      <th>count</th>\n      <td>4176.000000</td>\n      <td>4176.000000</td>\n      <td>4176.000000</td>\n      <td>4176.000000</td>\n      <td>4176.00000</td>\n      <td>4176.000000</td>\n      <td>4176.000000</td>\n      <td>4176.000000</td>\n    </tr>\n    <tr>\n      <th>mean</th>\n      <td>0.524009</td>\n      <td>0.407892</td>\n      <td>0.139527</td>\n      <td>0.828818</td>\n      <td>0.35940</td>\n      <td>0.180613</td>\n      <td>0.238852</td>\n      <td>9.932471</td>\n    </tr>\n    <tr>\n      <th>std</th>\n      <td>0.120103</td>\n      <td>0.099250</td>\n      <td>0.041826</td>\n      <td>0.490424</td>\n      <td>0.22198</td>\n      <td>0.109620</td>\n      <td>0.139213</td>\n      <td>3.223601</td>\n    </tr>\n    <tr>\n      <th>min</th>\n      <td>0.075000</td>\n      <td>0.055000</td>\n      <td>0.000000</td>\n      <td>0.002000</td>\n      <td>0.00100</td>\n      <td>0.000500</td>\n      <td>0.001500</td>\n      <td>1.000000</td>\n    </tr>\n    <tr>\n      <th>25%</th>\n      <td>0.450000</td>\n      <td>0.350000</td>\n      <td>0.115000</td>\n      <td>0.441500</td>\n      <td>0.18600</td>\n      <td>0.093375</td>\n      <td>0.130000</td>\n      <td>8.000000</td>\n    </tr>\n    <tr>\n      <th>50%</th>\n      <td>0.545000</td>\n      <td>0.425000</td>\n      <td>0.140000</td>\n      <td>0.799750</td>\n      <td>0.33600</td>\n      <td>0.171000</td>\n      <td>0.234000</td>\n      <td>9.000000</td>\n    </tr>\n    <tr>\n      <th>75%</th>\n      <td>0.615000</td>\n      <td>0.480000</td>\n      <td>0.165000</td>\n      <td>1.153250</td>\n      <td>0.50200</td>\n      <td>0.253000</td>\n      <td>0.329000</td>\n      <td>11.000000</td>\n    </tr>\n    <tr>\n      <th>max</th>\n      <td>0.815000</td>\n      <td>0.650000</td>\n      <td>1.130000</td>\n      <td>2.825500</td>\n      <td>1.48800</td>\n      <td>0.760000</td>\n      <td>1.005000</td>\n      <td>29.000000</td>\n    </tr>\n  </tbody>\n</table>\n</div>"
     },
     "execution_count": 56,
     "metadata": {},
     "output_type": "execute_result"
    }
   ],
   "source": [
    "abalone.describe()"
   ],
   "metadata": {
    "collapsed": false,
    "ExecuteTime": {
     "end_time": "2024-04-19T20:47:14.296360Z",
     "start_time": "2024-04-19T20:47:14.277491Z"
    }
   },
   "id": "9d128ebd1046367",
   "execution_count": 56
  },
  {
   "cell_type": "code",
   "outputs": [],
   "source": [
    "abalone = pd.get_dummies(abalone)"
   ],
   "metadata": {
    "collapsed": false,
    "ExecuteTime": {
     "end_time": "2024-04-19T20:47:14.300489Z",
     "start_time": "2024-04-19T20:47:14.297194Z"
    }
   },
   "id": "8bd567796d2be807",
   "execution_count": 57
  },
  {
   "cell_type": "code",
   "outputs": [
    {
     "name": "stdout",
     "output_type": "stream",
     "text": [
      "<class 'pandas.core.frame.DataFrame'>\n",
      "RangeIndex: 4176 entries, 0 to 4175\n",
      "Data columns (total 11 columns):\n",
      " #   Column          Non-Null Count  Dtype  \n",
      "---  ------          --------------  -----  \n",
      " 0   Length          4176 non-null   float64\n",
      " 1   Diameter        4176 non-null   float64\n",
      " 2   Height          4176 non-null   float64\n",
      " 3   Whole weight    4176 non-null   float64\n",
      " 4   Shucked weight  4176 non-null   float64\n",
      " 5   Viscera weight  4176 non-null   float64\n",
      " 6   Shell weight    4176 non-null   float64\n",
      " 7   Rings           4176 non-null   int64  \n",
      " 8   Sex_F           4176 non-null   bool   \n",
      " 9   Sex_I           4176 non-null   bool   \n",
      " 10  Sex_M           4176 non-null   bool   \n",
      "dtypes: bool(3), float64(7), int64(1)\n",
      "memory usage: 273.4 KB\n"
     ]
    }
   ],
   "source": [
    "abalone.info()"
   ],
   "metadata": {
    "collapsed": false,
    "ExecuteTime": {
     "end_time": "2024-04-19T20:47:14.309791Z",
     "start_time": "2024-04-19T20:47:14.301122Z"
    }
   },
   "id": "c508677f8a21b077",
   "execution_count": 58
  },
  {
   "cell_type": "code",
   "outputs": [
    {
     "data": {
      "text/plain": "    Length  Diameter  Height  Whole weight  Shucked weight  Viscera weight  \\\n0    0.350     0.265   0.090        0.2255          0.0995          0.0485   \n1    0.530     0.420   0.135        0.6770          0.2565          0.1415   \n2    0.440     0.365   0.125        0.5160          0.2155          0.1140   \n3    0.330     0.255   0.080        0.2050          0.0895          0.0395   \n4    0.425     0.300   0.095        0.3515          0.1410          0.0775   \n5    0.530     0.415   0.150        0.7775          0.2370          0.1415   \n6    0.545     0.425   0.125        0.7680          0.2940          0.1495   \n7    0.475     0.370   0.125        0.5095          0.2165          0.1125   \n8    0.550     0.440   0.150        0.8945          0.3145          0.1510   \n9    0.525     0.380   0.140        0.6065          0.1940          0.1475   \n10   0.430     0.350   0.110        0.4060          0.1675          0.0810   \n11   0.490     0.380   0.135        0.5415          0.2175          0.0950   \n12   0.535     0.405   0.145        0.6845          0.2725          0.1710   \n13   0.470     0.355   0.100        0.4755          0.1675          0.0805   \n14   0.500     0.400   0.130        0.6645          0.2580          0.1330   \n15   0.355     0.280   0.085        0.2905          0.0950          0.0395   \n16   0.440     0.340   0.100        0.4510          0.1880          0.0870   \n17   0.365     0.295   0.080        0.2555          0.0970          0.0430   \n18   0.450     0.320   0.100        0.3810          0.1705          0.0750   \n19   0.355     0.280   0.095        0.2455          0.0955          0.0620   \n\n    Shell weight  Rings  Sex_F  Sex_I  Sex_M  \n0          0.070      7  False  False   True  \n1          0.210      9   True  False  False  \n2          0.155     10  False  False   True  \n3          0.055      7  False   True  False  \n4          0.120      8  False   True  False  \n5          0.330     20   True  False  False  \n6          0.260     16   True  False  False  \n7          0.165      9  False  False   True  \n8          0.320     19   True  False  False  \n9          0.210     14   True  False  False  \n10         0.135     10  False  False   True  \n11         0.190     11  False  False   True  \n12         0.205     10   True  False  False  \n13         0.185     10   True  False  False  \n14         0.240     12  False  False   True  \n15         0.115      7  False   True  False  \n16         0.130     10   True  False  False  \n17         0.100      7  False  False   True  \n18         0.115      9  False  False   True  \n19         0.075     11  False  False   True  ",
      "text/html": "<div>\n<style scoped>\n    .dataframe tbody tr th:only-of-type {\n        vertical-align: middle;\n    }\n\n    .dataframe tbody tr th {\n        vertical-align: top;\n    }\n\n    .dataframe thead th {\n        text-align: right;\n    }\n</style>\n<table border=\"1\" class=\"dataframe\">\n  <thead>\n    <tr style=\"text-align: right;\">\n      <th></th>\n      <th>Length</th>\n      <th>Diameter</th>\n      <th>Height</th>\n      <th>Whole weight</th>\n      <th>Shucked weight</th>\n      <th>Viscera weight</th>\n      <th>Shell weight</th>\n      <th>Rings</th>\n      <th>Sex_F</th>\n      <th>Sex_I</th>\n      <th>Sex_M</th>\n    </tr>\n  </thead>\n  <tbody>\n    <tr>\n      <th>0</th>\n      <td>0.350</td>\n      <td>0.265</td>\n      <td>0.090</td>\n      <td>0.2255</td>\n      <td>0.0995</td>\n      <td>0.0485</td>\n      <td>0.070</td>\n      <td>7</td>\n      <td>False</td>\n      <td>False</td>\n      <td>True</td>\n    </tr>\n    <tr>\n      <th>1</th>\n      <td>0.530</td>\n      <td>0.420</td>\n      <td>0.135</td>\n      <td>0.6770</td>\n      <td>0.2565</td>\n      <td>0.1415</td>\n      <td>0.210</td>\n      <td>9</td>\n      <td>True</td>\n      <td>False</td>\n      <td>False</td>\n    </tr>\n    <tr>\n      <th>2</th>\n      <td>0.440</td>\n      <td>0.365</td>\n      <td>0.125</td>\n      <td>0.5160</td>\n      <td>0.2155</td>\n      <td>0.1140</td>\n      <td>0.155</td>\n      <td>10</td>\n      <td>False</td>\n      <td>False</td>\n      <td>True</td>\n    </tr>\n    <tr>\n      <th>3</th>\n      <td>0.330</td>\n      <td>0.255</td>\n      <td>0.080</td>\n      <td>0.2050</td>\n      <td>0.0895</td>\n      <td>0.0395</td>\n      <td>0.055</td>\n      <td>7</td>\n      <td>False</td>\n      <td>True</td>\n      <td>False</td>\n    </tr>\n    <tr>\n      <th>4</th>\n      <td>0.425</td>\n      <td>0.300</td>\n      <td>0.095</td>\n      <td>0.3515</td>\n      <td>0.1410</td>\n      <td>0.0775</td>\n      <td>0.120</td>\n      <td>8</td>\n      <td>False</td>\n      <td>True</td>\n      <td>False</td>\n    </tr>\n    <tr>\n      <th>5</th>\n      <td>0.530</td>\n      <td>0.415</td>\n      <td>0.150</td>\n      <td>0.7775</td>\n      <td>0.2370</td>\n      <td>0.1415</td>\n      <td>0.330</td>\n      <td>20</td>\n      <td>True</td>\n      <td>False</td>\n      <td>False</td>\n    </tr>\n    <tr>\n      <th>6</th>\n      <td>0.545</td>\n      <td>0.425</td>\n      <td>0.125</td>\n      <td>0.7680</td>\n      <td>0.2940</td>\n      <td>0.1495</td>\n      <td>0.260</td>\n      <td>16</td>\n      <td>True</td>\n      <td>False</td>\n      <td>False</td>\n    </tr>\n    <tr>\n      <th>7</th>\n      <td>0.475</td>\n      <td>0.370</td>\n      <td>0.125</td>\n      <td>0.5095</td>\n      <td>0.2165</td>\n      <td>0.1125</td>\n      <td>0.165</td>\n      <td>9</td>\n      <td>False</td>\n      <td>False</td>\n      <td>True</td>\n    </tr>\n    <tr>\n      <th>8</th>\n      <td>0.550</td>\n      <td>0.440</td>\n      <td>0.150</td>\n      <td>0.8945</td>\n      <td>0.3145</td>\n      <td>0.1510</td>\n      <td>0.320</td>\n      <td>19</td>\n      <td>True</td>\n      <td>False</td>\n      <td>False</td>\n    </tr>\n    <tr>\n      <th>9</th>\n      <td>0.525</td>\n      <td>0.380</td>\n      <td>0.140</td>\n      <td>0.6065</td>\n      <td>0.1940</td>\n      <td>0.1475</td>\n      <td>0.210</td>\n      <td>14</td>\n      <td>True</td>\n      <td>False</td>\n      <td>False</td>\n    </tr>\n    <tr>\n      <th>10</th>\n      <td>0.430</td>\n      <td>0.350</td>\n      <td>0.110</td>\n      <td>0.4060</td>\n      <td>0.1675</td>\n      <td>0.0810</td>\n      <td>0.135</td>\n      <td>10</td>\n      <td>False</td>\n      <td>False</td>\n      <td>True</td>\n    </tr>\n    <tr>\n      <th>11</th>\n      <td>0.490</td>\n      <td>0.380</td>\n      <td>0.135</td>\n      <td>0.5415</td>\n      <td>0.2175</td>\n      <td>0.0950</td>\n      <td>0.190</td>\n      <td>11</td>\n      <td>False</td>\n      <td>False</td>\n      <td>True</td>\n    </tr>\n    <tr>\n      <th>12</th>\n      <td>0.535</td>\n      <td>0.405</td>\n      <td>0.145</td>\n      <td>0.6845</td>\n      <td>0.2725</td>\n      <td>0.1710</td>\n      <td>0.205</td>\n      <td>10</td>\n      <td>True</td>\n      <td>False</td>\n      <td>False</td>\n    </tr>\n    <tr>\n      <th>13</th>\n      <td>0.470</td>\n      <td>0.355</td>\n      <td>0.100</td>\n      <td>0.4755</td>\n      <td>0.1675</td>\n      <td>0.0805</td>\n      <td>0.185</td>\n      <td>10</td>\n      <td>True</td>\n      <td>False</td>\n      <td>False</td>\n    </tr>\n    <tr>\n      <th>14</th>\n      <td>0.500</td>\n      <td>0.400</td>\n      <td>0.130</td>\n      <td>0.6645</td>\n      <td>0.2580</td>\n      <td>0.1330</td>\n      <td>0.240</td>\n      <td>12</td>\n      <td>False</td>\n      <td>False</td>\n      <td>True</td>\n    </tr>\n    <tr>\n      <th>15</th>\n      <td>0.355</td>\n      <td>0.280</td>\n      <td>0.085</td>\n      <td>0.2905</td>\n      <td>0.0950</td>\n      <td>0.0395</td>\n      <td>0.115</td>\n      <td>7</td>\n      <td>False</td>\n      <td>True</td>\n      <td>False</td>\n    </tr>\n    <tr>\n      <th>16</th>\n      <td>0.440</td>\n      <td>0.340</td>\n      <td>0.100</td>\n      <td>0.4510</td>\n      <td>0.1880</td>\n      <td>0.0870</td>\n      <td>0.130</td>\n      <td>10</td>\n      <td>True</td>\n      <td>False</td>\n      <td>False</td>\n    </tr>\n    <tr>\n      <th>17</th>\n      <td>0.365</td>\n      <td>0.295</td>\n      <td>0.080</td>\n      <td>0.2555</td>\n      <td>0.0970</td>\n      <td>0.0430</td>\n      <td>0.100</td>\n      <td>7</td>\n      <td>False</td>\n      <td>False</td>\n      <td>True</td>\n    </tr>\n    <tr>\n      <th>18</th>\n      <td>0.450</td>\n      <td>0.320</td>\n      <td>0.100</td>\n      <td>0.3810</td>\n      <td>0.1705</td>\n      <td>0.0750</td>\n      <td>0.115</td>\n      <td>9</td>\n      <td>False</td>\n      <td>False</td>\n      <td>True</td>\n    </tr>\n    <tr>\n      <th>19</th>\n      <td>0.355</td>\n      <td>0.280</td>\n      <td>0.095</td>\n      <td>0.2455</td>\n      <td>0.0955</td>\n      <td>0.0620</td>\n      <td>0.075</td>\n      <td>11</td>\n      <td>False</td>\n      <td>False</td>\n      <td>True</td>\n    </tr>\n  </tbody>\n</table>\n</div>"
     },
     "execution_count": 59,
     "metadata": {},
     "output_type": "execute_result"
    }
   ],
   "source": [
    "abalone.head(20)"
   ],
   "metadata": {
    "collapsed": false,
    "ExecuteTime": {
     "end_time": "2024-04-19T20:47:14.323229Z",
     "start_time": "2024-04-19T20:47:14.310522Z"
    }
   },
   "id": "addc23036cf8a0c",
   "execution_count": 59
  },
  {
   "cell_type": "code",
   "outputs": [
    {
     "data": {
      "text/plain": "<pandas.io.formats.style.Styler at 0x7f4441a98c50>",
      "text/html": "<style type=\"text/css\">\n#T_e3739_row0_col0, #T_e3739_row1_col1, #T_e3739_row2_col2, #T_e3739_row3_col3, #T_e3739_row4_col4, #T_e3739_row5_col5, #T_e3739_row6_col6, #T_e3739_row7_col7, #T_e3739_row8_col8, #T_e3739_row9_col9, #T_e3739_row10_col10 {\n  background-color: #c3553a;\n  color: #f1f1f1;\n}\n#T_e3739_row0_col1, #T_e3739_row1_col0 {\n  background-color: #c3583c;\n  color: #f1f1f1;\n}\n#T_e3739_row0_col2, #T_e3739_row2_col3 {\n  background-color: #ce7c67;\n  color: #f1f1f1;\n}\n#T_e3739_row0_col3, #T_e3739_row1_col3, #T_e3739_row3_col0, #T_e3739_row3_col1 {\n  background-color: #c8654c;\n  color: #f1f1f1;\n}\n#T_e3739_row0_col4, #T_e3739_row1_col4, #T_e3739_row4_col1 {\n  background-color: #ca6c54;\n  color: #f1f1f1;\n}\n#T_e3739_row0_col5, #T_e3739_row1_col6, #T_e3739_row5_col6, #T_e3739_row6_col1, #T_e3739_row6_col5 {\n  background-color: #c96950;\n  color: #f1f1f1;\n}\n#T_e3739_row0_col6, #T_e3739_row1_col5, #T_e3739_row4_col0, #T_e3739_row5_col0, #T_e3739_row5_col1, #T_e3739_row6_col0 {\n  background-color: #c96b53;\n  color: #f1f1f1;\n}\n#T_e3739_row0_col7, #T_e3739_row2_col7 {\n  background-color: #e2bdb3;\n  color: #000000;\n}\n#T_e3739_row0_col8 {\n  background-color: #f2efee;\n  color: #000000;\n}\n#T_e3739_row0_col9, #T_e3739_row6_col9 {\n  background-color: #428195;\n  color: #f1f1f1;\n}\n#T_e3739_row0_col10, #T_e3739_row1_col10, #T_e3739_row2_col8, #T_e3739_row2_col10, #T_e3739_row3_col8, #T_e3739_row3_col10, #T_e3739_row4_col8, #T_e3739_row4_col10, #T_e3739_row5_col10, #T_e3739_row6_col10, #T_e3739_row7_col8, #T_e3739_row7_col10, #T_e3739_row8_col2, #T_e3739_row8_col4, #T_e3739_row8_col7, #T_e3739_row10_col0, #T_e3739_row10_col1, #T_e3739_row10_col2, #T_e3739_row10_col3, #T_e3739_row10_col4, #T_e3739_row10_col5, #T_e3739_row10_col6 {\n  background-color: #f2f2f2;\n  color: #000000;\n}\n#T_e3739_row1_col2, #T_e3739_row2_col0 {\n  background-color: #ce7a65;\n  color: #f1f1f1;\n}\n#T_e3739_row1_col7, #T_e3739_row7_col3 {\n  background-color: #e1b9af;\n  color: #000000;\n}\n#T_e3739_row1_col8, #T_e3739_row8_col3 {\n  background-color: #f2eeed;\n  color: #000000;\n}\n#T_e3739_row1_col9, #T_e3739_row9_col0, #T_e3739_row9_col1, #T_e3739_row9_col2, #T_e3739_row9_col3, #T_e3739_row9_col4, #T_e3739_row9_col5, #T_e3739_row9_col6, #T_e3739_row9_col7, #T_e3739_row9_col10, #T_e3739_row10_col8 {\n  background-color: #3f7f93;\n  color: #f1f1f1;\n}\n#T_e3739_row2_col1 {\n  background-color: #ce7964;\n  color: #f1f1f1;\n}\n#T_e3739_row2_col4, #T_e3739_row4_col2 {\n  background-color: #d28673;\n  color: #f1f1f1;\n}\n#T_e3739_row2_col5, #T_e3739_row5_col2 {\n  background-color: #d0816d;\n  color: #f1f1f1;\n}\n#T_e3739_row2_col6, #T_e3739_row3_col2, #T_e3739_row6_col2 {\n  background-color: #cf7d68;\n  color: #f1f1f1;\n}\n#T_e3739_row2_col9 {\n  background-color: #498699;\n  color: #f1f1f1;\n}\n#T_e3739_row3_col4, #T_e3739_row3_col5, #T_e3739_row4_col3, #T_e3739_row5_col3 {\n  background-color: #c55b41;\n  color: #f1f1f1;\n}\n#T_e3739_row3_col6, #T_e3739_row6_col3 {\n  background-color: #c55e44;\n  color: #f1f1f1;\n}\n#T_e3739_row3_col7, #T_e3739_row7_col5 {\n  background-color: #e4c1b8;\n  color: #000000;\n}\n#T_e3739_row3_col9, #T_e3739_row5_col9, #T_e3739_row8_col10 {\n  background-color: #408094;\n  color: #f1f1f1;\n}\n#T_e3739_row4_col5, #T_e3739_row5_col4 {\n  background-color: #c7644b;\n  color: #f1f1f1;\n}\n#T_e3739_row4_col6, #T_e3739_row6_col4 {\n  background-color: #ca6e57;\n  color: #f1f1f1;\n}\n#T_e3739_row4_col7 {\n  background-color: #eddeda;\n  color: #000000;\n}\n#T_e3739_row4_col9, #T_e3739_row10_col9 {\n  background-color: #488598;\n  color: #f1f1f1;\n}\n#T_e3739_row5_col7 {\n  background-color: #e7cac3;\n  color: #000000;\n}\n#T_e3739_row5_col8, #T_e3739_row6_col8 {\n  background-color: #f2f0f0;\n  color: #000000;\n}\n#T_e3739_row6_col7 {\n  background-color: #deada1;\n  color: #000000;\n}\n#T_e3739_row7_col0 {\n  background-color: #e0b6ab;\n  color: #000000;\n}\n#T_e3739_row7_col1 {\n  background-color: #dfb0a5;\n  color: #000000;\n}\n#T_e3739_row7_col2 {\n  background-color: #e1b7ad;\n  color: #000000;\n}\n#T_e3739_row7_col4 {\n  background-color: #ead6d1;\n  color: #000000;\n}\n#T_e3739_row7_col6 {\n  background-color: #dca699;\n  color: #000000;\n}\n#T_e3739_row7_col9 {\n  background-color: #5e93a4;\n  color: #f1f1f1;\n}\n#T_e3739_row8_col0, #T_e3739_row8_col5 {\n  background-color: #f1ebea;\n  color: #000000;\n}\n#T_e3739_row8_col1 {\n  background-color: #f0e8e7;\n  color: #000000;\n}\n#T_e3739_row8_col6 {\n  background-color: #f1edec;\n  color: #000000;\n}\n#T_e3739_row8_col9 {\n  background-color: #578fa0;\n  color: #f1f1f1;\n}\n#T_e3739_row9_col8 {\n  background-color: #4b8799;\n  color: #f1f1f1;\n}\n#T_e3739_row10_col7 {\n  background-color: #e4eaed;\n  color: #000000;\n}\n</style>\n<table id=\"T_e3739\">\n  <thead>\n    <tr>\n      <th class=\"blank level0\" >&nbsp;</th>\n      <th id=\"T_e3739_level0_col0\" class=\"col_heading level0 col0\" >Length</th>\n      <th id=\"T_e3739_level0_col1\" class=\"col_heading level0 col1\" >Diameter</th>\n      <th id=\"T_e3739_level0_col2\" class=\"col_heading level0 col2\" >Height</th>\n      <th id=\"T_e3739_level0_col3\" class=\"col_heading level0 col3\" >Whole weight</th>\n      <th id=\"T_e3739_level0_col4\" class=\"col_heading level0 col4\" >Shucked weight</th>\n      <th id=\"T_e3739_level0_col5\" class=\"col_heading level0 col5\" >Viscera weight</th>\n      <th id=\"T_e3739_level0_col6\" class=\"col_heading level0 col6\" >Shell weight</th>\n      <th id=\"T_e3739_level0_col7\" class=\"col_heading level0 col7\" >Rings</th>\n      <th id=\"T_e3739_level0_col8\" class=\"col_heading level0 col8\" >Sex_F</th>\n      <th id=\"T_e3739_level0_col9\" class=\"col_heading level0 col9\" >Sex_I</th>\n      <th id=\"T_e3739_level0_col10\" class=\"col_heading level0 col10\" >Sex_M</th>\n    </tr>\n  </thead>\n  <tbody>\n    <tr>\n      <th id=\"T_e3739_level0_row0\" class=\"row_heading level0 row0\" >Length</th>\n      <td id=\"T_e3739_row0_col0\" class=\"data row0 col0\" >1.000000</td>\n      <td id=\"T_e3739_row0_col1\" class=\"data row0 col1\" >0.986813</td>\n      <td id=\"T_e3739_row0_col2\" class=\"data row0 col2\" >0.827552</td>\n      <td id=\"T_e3739_row0_col3\" class=\"data row0 col3\" >0.925255</td>\n      <td id=\"T_e3739_row0_col4\" class=\"data row0 col4\" >0.897905</td>\n      <td id=\"T_e3739_row0_col5\" class=\"data row0 col5\" >0.903010</td>\n      <td id=\"T_e3739_row0_col6\" class=\"data row0 col6\" >0.897697</td>\n      <td id=\"T_e3739_row0_col7\" class=\"data row0 col7\" >0.557123</td>\n      <td id=\"T_e3739_row0_col8\" class=\"data row0 col8\" >0.309602</td>\n      <td id=\"T_e3739_row0_col9\" class=\"data row0 col9\" >-0.551613</td>\n      <td id=\"T_e3739_row0_col10\" class=\"data row0 col10\" >0.236783</td>\n    </tr>\n    <tr>\n      <th id=\"T_e3739_level0_row1\" class=\"row_heading level0 row1\" >Diameter</th>\n      <td id=\"T_e3739_row1_col0\" class=\"data row1 col0\" >0.986813</td>\n      <td id=\"T_e3739_row1_col1\" class=\"data row1 col1\" >1.000000</td>\n      <td id=\"T_e3739_row1_col2\" class=\"data row1 col2\" >0.833705</td>\n      <td id=\"T_e3739_row1_col3\" class=\"data row1 col3\" >0.925452</td>\n      <td id=\"T_e3739_row1_col4\" class=\"data row1 col4\" >0.893159</td>\n      <td id=\"T_e3739_row1_col5\" class=\"data row1 col5\" >0.899726</td>\n      <td id=\"T_e3739_row1_col6\" class=\"data row1 col6\" >0.905328</td>\n      <td id=\"T_e3739_row1_col7\" class=\"data row1 col7\" >0.575005</td>\n      <td id=\"T_e3739_row1_col8\" class=\"data row1 col8\" >0.318581</td>\n      <td id=\"T_e3739_row1_col9\" class=\"data row1 col9\" >-0.564431</td>\n      <td id=\"T_e3739_row1_col10\" class=\"data row1 col10\" >0.240567</td>\n    </tr>\n    <tr>\n      <th id=\"T_e3739_level0_row2\" class=\"row_heading level0 row2\" >Height</th>\n      <td id=\"T_e3739_row2_col0\" class=\"data row2 col0\" >0.827552</td>\n      <td id=\"T_e3739_row2_col1\" class=\"data row2 col1\" >0.833705</td>\n      <td id=\"T_e3739_row2_col2\" class=\"data row2 col2\" >1.000000</td>\n      <td id=\"T_e3739_row2_col3\" class=\"data row2 col3\" >0.819209</td>\n      <td id=\"T_e3739_row2_col4\" class=\"data row2 col4\" >0.774957</td>\n      <td id=\"T_e3739_row2_col5\" class=\"data row2 col5\" >0.798293</td>\n      <td id=\"T_e3739_row2_col6\" class=\"data row2 col6\" >0.817326</td>\n      <td id=\"T_e3739_row2_col7\" class=\"data row2 col7\" >0.558109</td>\n      <td id=\"T_e3739_row2_col8\" class=\"data row2 col8\" >0.298306</td>\n      <td id=\"T_e3739_row2_col9\" class=\"data row2 col9\" >-0.518828</td>\n      <td id=\"T_e3739_row2_col10\" class=\"data row2 col10\" >0.215869</td>\n    </tr>\n    <tr>\n      <th id=\"T_e3739_level0_row3\" class=\"row_heading level0 row3\" >Whole weight</th>\n      <td id=\"T_e3739_row3_col0\" class=\"data row3 col0\" >0.925255</td>\n      <td id=\"T_e3739_row3_col1\" class=\"data row3 col1\" >0.925452</td>\n      <td id=\"T_e3739_row3_col2\" class=\"data row3 col2\" >0.819209</td>\n      <td id=\"T_e3739_row3_col3\" class=\"data row3 col3\" >1.000000</td>\n      <td id=\"T_e3739_row3_col4\" class=\"data row3 col4\" >0.969403</td>\n      <td id=\"T_e3739_row3_col5\" class=\"data row3 col5\" >0.966372</td>\n      <td id=\"T_e3739_row3_col6\" class=\"data row3 col6\" >0.955351</td>\n      <td id=\"T_e3739_row3_col7\" class=\"data row3 col7\" >0.540818</td>\n      <td id=\"T_e3739_row3_col8\" class=\"data row3 col8\" >0.299668</td>\n      <td id=\"T_e3739_row3_col9\" class=\"data row3 col9\" >-0.557757</td>\n      <td id=\"T_e3739_row3_col10\" class=\"data row3 col10\" >0.252305</td>\n    </tr>\n    <tr>\n      <th id=\"T_e3739_level0_row4\" class=\"row_heading level0 row4\" >Shucked weight</th>\n      <td id=\"T_e3739_row4_col0\" class=\"data row4 col0\" >0.897905</td>\n      <td id=\"T_e3739_row4_col1\" class=\"data row4 col1\" >0.893159</td>\n      <td id=\"T_e3739_row4_col2\" class=\"data row4 col2\" >0.774957</td>\n      <td id=\"T_e3739_row4_col3\" class=\"data row4 col3\" >0.969403</td>\n      <td id=\"T_e3739_row4_col4\" class=\"data row4 col4\" >1.000000</td>\n      <td id=\"T_e3739_row4_col5\" class=\"data row4 col5\" >0.931956</td>\n      <td id=\"T_e3739_row4_col6\" class=\"data row4 col6\" >0.882606</td>\n      <td id=\"T_e3739_row4_col7\" class=\"data row4 col7\" >0.421256</td>\n      <td id=\"T_e3739_row4_col8\" class=\"data row4 col8\" >0.263919</td>\n      <td id=\"T_e3739_row4_col9\" class=\"data row4 col9\" >-0.521995</td>\n      <td id=\"T_e3739_row4_col10\" class=\"data row4 col10\" >0.252048</td>\n    </tr>\n    <tr>\n      <th id=\"T_e3739_level0_row5\" class=\"row_heading level0 row5\" >Viscera weight</th>\n      <td id=\"T_e3739_row5_col0\" class=\"data row5 col0\" >0.903010</td>\n      <td id=\"T_e3739_row5_col1\" class=\"data row5 col1\" >0.899726</td>\n      <td id=\"T_e3739_row5_col2\" class=\"data row5 col2\" >0.798293</td>\n      <td id=\"T_e3739_row5_col3\" class=\"data row5 col3\" >0.966372</td>\n      <td id=\"T_e3739_row5_col4\" class=\"data row5 col4\" >0.931956</td>\n      <td id=\"T_e3739_row5_col5\" class=\"data row5 col5\" >1.000000</td>\n      <td id=\"T_e3739_row5_col6\" class=\"data row5 col6\" >0.907647</td>\n      <td id=\"T_e3739_row5_col7\" class=\"data row5 col7\" >0.504274</td>\n      <td id=\"T_e3739_row5_col8\" class=\"data row5 col8\" >0.308363</td>\n      <td id=\"T_e3739_row5_col9\" class=\"data row5 col9\" >-0.556267</td>\n      <td id=\"T_e3739_row5_col10\" class=\"data row5 col10\" >0.242489</td>\n    </tr>\n    <tr>\n      <th id=\"T_e3739_level0_row6\" class=\"row_heading level0 row6\" >Shell weight</th>\n      <td id=\"T_e3739_row6_col0\" class=\"data row6 col0\" >0.897697</td>\n      <td id=\"T_e3739_row6_col1\" class=\"data row6 col1\" >0.905328</td>\n      <td id=\"T_e3739_row6_col2\" class=\"data row6 col2\" >0.817326</td>\n      <td id=\"T_e3739_row6_col3\" class=\"data row6 col3\" >0.955351</td>\n      <td id=\"T_e3739_row6_col4\" class=\"data row6 col4\" >0.882606</td>\n      <td id=\"T_e3739_row6_col5\" class=\"data row6 col5\" >0.907647</td>\n      <td id=\"T_e3739_row6_col6\" class=\"data row6 col6\" >1.000000</td>\n      <td id=\"T_e3739_row6_col7\" class=\"data row6 col7\" >0.628031</td>\n      <td id=\"T_e3739_row6_col8\" class=\"data row6 col8\" >0.306248</td>\n      <td id=\"T_e3739_row6_col9\" class=\"data row6 col9\" >-0.547116</td>\n      <td id=\"T_e3739_row6_col10\" class=\"data row6 col10\" >0.235652</td>\n    </tr>\n    <tr>\n      <th id=\"T_e3739_level0_row7\" class=\"row_heading level0 row7\" >Rings</th>\n      <td id=\"T_e3739_row7_col0\" class=\"data row7 col0\" >0.557123</td>\n      <td id=\"T_e3739_row7_col1\" class=\"data row7 col1\" >0.575005</td>\n      <td id=\"T_e3739_row7_col2\" class=\"data row7 col2\" >0.558109</td>\n      <td id=\"T_e3739_row7_col3\" class=\"data row7 col3\" >0.540818</td>\n      <td id=\"T_e3739_row7_col4\" class=\"data row7 col4\" >0.421256</td>\n      <td id=\"T_e3739_row7_col5\" class=\"data row7 col5\" >0.504274</td>\n      <td id=\"T_e3739_row7_col6\" class=\"data row7 col6\" >0.628031</td>\n      <td id=\"T_e3739_row7_col7\" class=\"data row7 col7\" >1.000000</td>\n      <td id=\"T_e3739_row7_col8\" class=\"data row7 col8\" >0.250620</td>\n      <td id=\"T_e3739_row7_col9\" class=\"data row7 col9\" >-0.435958</td>\n      <td id=\"T_e3739_row7_col10\" class=\"data row7 col10\" >0.181426</td>\n    </tr>\n    <tr>\n      <th id=\"T_e3739_level0_row8\" class=\"row_heading level0 row8\" >Sex_F</th>\n      <td id=\"T_e3739_row8_col0\" class=\"data row8 col0\" >0.309602</td>\n      <td id=\"T_e3739_row8_col1\" class=\"data row8 col1\" >0.318581</td>\n      <td id=\"T_e3739_row8_col2\" class=\"data row8 col2\" >0.298306</td>\n      <td id=\"T_e3739_row8_col3\" class=\"data row8 col3\" >0.299668</td>\n      <td id=\"T_e3739_row8_col4\" class=\"data row8 col4\" >0.263919</td>\n      <td id=\"T_e3739_row8_col5\" class=\"data row8 col5\" >0.308363</td>\n      <td id=\"T_e3739_row8_col6\" class=\"data row8 col6\" >0.306248</td>\n      <td id=\"T_e3739_row8_col7\" class=\"data row8 col7\" >0.250620</td>\n      <td id=\"T_e3739_row8_col8\" class=\"data row8 col8\" >1.000000</td>\n      <td id=\"T_e3739_row8_col9\" class=\"data row8 col9\" >-0.464461</td>\n      <td id=\"T_e3739_row8_col10\" class=\"data row8 col10\" >-0.512449</td>\n    </tr>\n    <tr>\n      <th id=\"T_e3739_level0_row9\" class=\"row_heading level0 row9\" >Sex_I</th>\n      <td id=\"T_e3739_row9_col0\" class=\"data row9 col0\" >-0.551613</td>\n      <td id=\"T_e3739_row9_col1\" class=\"data row9 col1\" >-0.564431</td>\n      <td id=\"T_e3739_row9_col2\" class=\"data row9 col2\" >-0.518828</td>\n      <td id=\"T_e3739_row9_col3\" class=\"data row9 col3\" >-0.557757</td>\n      <td id=\"T_e3739_row9_col4\" class=\"data row9 col4\" >-0.521995</td>\n      <td id=\"T_e3739_row9_col5\" class=\"data row9 col5\" >-0.556267</td>\n      <td id=\"T_e3739_row9_col6\" class=\"data row9 col6\" >-0.547116</td>\n      <td id=\"T_e3739_row9_col7\" class=\"data row9 col7\" >-0.435958</td>\n      <td id=\"T_e3739_row9_col8\" class=\"data row9 col8\" >-0.464461</td>\n      <td id=\"T_e3739_row9_col9\" class=\"data row9 col9\" >1.000000</td>\n      <td id=\"T_e3739_row9_col10\" class=\"data row9 col10\" >-0.522462</td>\n    </tr>\n    <tr>\n      <th id=\"T_e3739_level0_row10\" class=\"row_heading level0 row10\" >Sex_M</th>\n      <td id=\"T_e3739_row10_col0\" class=\"data row10 col0\" >0.236783</td>\n      <td id=\"T_e3739_row10_col1\" class=\"data row10 col1\" >0.240567</td>\n      <td id=\"T_e3739_row10_col2\" class=\"data row10 col2\" >0.215869</td>\n      <td id=\"T_e3739_row10_col3\" class=\"data row10 col3\" >0.252305</td>\n      <td id=\"T_e3739_row10_col4\" class=\"data row10 col4\" >0.252048</td>\n      <td id=\"T_e3739_row10_col5\" class=\"data row10 col5\" >0.242489</td>\n      <td id=\"T_e3739_row10_col6\" class=\"data row10 col6\" >0.235652</td>\n      <td id=\"T_e3739_row10_col7\" class=\"data row10 col7\" >0.181426</td>\n      <td id=\"T_e3739_row10_col8\" class=\"data row10 col8\" >-0.512449</td>\n      <td id=\"T_e3739_row10_col9\" class=\"data row10 col9\" >-0.522462</td>\n      <td id=\"T_e3739_row10_col10\" class=\"data row10 col10\" >1.000000</td>\n    </tr>\n  </tbody>\n</table>\n"
     },
     "execution_count": 60,
     "metadata": {},
     "output_type": "execute_result"
    }
   ],
   "source": [
    "import seaborn as sns\n",
    "\n",
    "corr = abalone.corr()\n",
    "corr.style.background_gradient(cmap='coolwarm')\n",
    "# 'RdBu_r' & 'BrBG' are other good diverging colormaps\n",
    "cm = sns.diverging_palette(220, 20, sep=20, as_cmap=True)\n",
    "corr.style.background_gradient(cmap=cm)"
   ],
   "metadata": {
    "collapsed": false,
    "ExecuteTime": {
     "end_time": "2024-04-19T20:47:14.342822Z",
     "start_time": "2024-04-19T20:47:14.324175Z"
    }
   },
   "id": "260c8d0170eb53ad",
   "execution_count": 60
  },
  {
   "cell_type": "markdown",
   "source": [
    "**Delete target value**"
   ],
   "metadata": {
    "collapsed": false
   },
   "id": "66d15bd1c01a1"
  },
  {
   "cell_type": "code",
   "outputs": [],
   "source": [
    "y = abalone[\"Rings\"]\n",
    "X = abalone.drop(columns=\"Rings\")"
   ],
   "metadata": {
    "collapsed": false,
    "ExecuteTime": {
     "end_time": "2024-04-19T20:47:14.346173Z",
     "start_time": "2024-04-19T20:47:14.343713Z"
    }
   },
   "id": "2d2a1e172874f51",
   "execution_count": 61
  },
  {
   "cell_type": "code",
   "outputs": [],
   "source": [
    "X_train, X_test, y_train, y_test = train_test_split(X, y, test_size=0.3)"
   ],
   "metadata": {
    "collapsed": false,
    "ExecuteTime": {
     "end_time": "2024-04-19T20:47:14.362178Z",
     "start_time": "2024-04-19T20:47:14.347936Z"
    }
   },
   "id": "e31fe217d30861a7",
   "execution_count": 62
  }
 ],
 "metadata": {
  "kernelspec": {
   "display_name": "Python 3",
   "language": "python",
   "name": "python3"
  },
  "language_info": {
   "codemirror_mode": {
    "name": "ipython",
    "version": 2
   },
   "file_extension": ".py",
   "mimetype": "text/x-python",
   "name": "python",
   "nbconvert_exporter": "python",
   "pygments_lexer": "ipython2",
   "version": "2.7.6"
  }
 },
 "nbformat": 4,
 "nbformat_minor": 5
}
