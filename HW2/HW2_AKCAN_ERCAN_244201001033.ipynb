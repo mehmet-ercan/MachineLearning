{
 "cells": [
  {
   "cell_type": "markdown",
   "source": [
    "veri görselleştirme https://batuhandaz.medium.com/decision-tree-algoritmas%C4%B1-karar-a%C4%9Fac%C4%B1-machine-learning-78d856b1f457\n",
    "https://ece-akdagli.medium.com/makine-%C3%B6%C4%9Frenmesinde-decision-tree-42a86502ee75\n",
    "https://erdincuzun.com/makine_ogrenmesi/decision-tree-karar-agaci-id3-algoritmasi-classification-siniflama/"
   ],
   "metadata": {
    "collapsed": false
   },
   "id": "1d5a7b5fedced1fc"
  },
  {
   "cell_type": "markdown",
   "source": [
    "### Import Librarires And Dataset"
   ],
   "metadata": {
    "collapsed": false
   },
   "id": "cfb530db8c23b6ef"
  },
  {
   "cell_type": "code",
   "outputs": [],
   "source": [
    "import warnings\n",
    "import pandas as pd\n",
    "import numpy as np\n",
    "from sklearn.model_selection import train_test_split\n",
    "\n",
    "#some settings to show data\n",
    "warnings.filterwarnings('ignore')\n",
    "pd.set_option('display.max_columns', 50)\n",
    "pd.set_option('display.max_rows', 50)\n",
    "\n",
    "# target_url = (\"http://archive.ics.uci.edu/ml/machine-learning-databases/abalone/abalone.data\")\n",
    "target_url = (\"datasets/abalone.data\")\n",
    "abalone_df = pd.read_csv(target_url)\n",
    "headers = ['Sex', 'Length', 'Diameter', 'Height', 'Whole weight', 'Shucked weight', 'Viscera weight', 'Shell weight', 'Rings']\n",
    "abalone_df.columns = headers"
   ],
   "metadata": {
    "collapsed": false
   },
   "id": "c8c4930521663c7e",
   "execution_count": null
  },
  {
   "cell_type": "markdown",
   "source": [
    "### Analyze the Data"
   ],
   "metadata": {
    "collapsed": false
   },
   "id": "b2c4fa2833ff788d"
  },
  {
   "cell_type": "code",
   "outputs": [],
   "source": [
    "abalone_df.head()"
   ],
   "metadata": {
    "collapsed": false
   },
   "id": "231f1ce4be95c7fa",
   "execution_count": null
  },
  {
   "cell_type": "code",
   "outputs": [],
   "source": [
    "abalone_df.info()"
   ],
   "metadata": {
    "collapsed": false
   },
   "id": "c508677f8a21b077",
   "execution_count": null
  },
  {
   "cell_type": "markdown",
   "source": [
    "**Get target value**"
   ],
   "metadata": {
    "collapsed": false
   },
   "id": "66d15bd1c01a1"
  },
  {
   "cell_type": "code",
   "outputs": [],
   "source": [
    "# If you want the target values to be categorical rather than numeric, this process should be applied.\n",
    "\n",
    "# for ix in abalone_df.index:\n",
    "#     row = abalone_df.loc[ix]\n",
    "#     if row[\"Rings\"] <= 8:\n",
    "#         abalone_df.loc[ix, 'Rings'] = 'Young'\n",
    "#     elif row[\"Rings\"] >= 11:\n",
    "#         abalone_df.loc[ix, 'Rings'] = 'Old'\n",
    "#     elif row[\"Rings\"] >=9 & row[\"Rings\"] <= 10:\n",
    "#         abalone_df.loc[ix, 'Rings'] = 'Medium'\n",
    "        \n",
    "# X = abalone.drop(columns=\"Rings\")\n",
    "# y = abalone[\"Rings\"]\n",
    "# X['Sex'] = abalone['Sex'].replace({'F':0,'M':1,'I':2})"
   ],
   "metadata": {
    "collapsed": false
   },
   "id": "2d2a1e172874f51",
   "execution_count": null
  },
  {
   "cell_type": "code",
   "outputs": [],
   "source": [
    "# X_train, X_test, y_train, y_test = train_test_split(X, y, test_size=0.3)"
   ],
   "metadata": {
    "collapsed": false
   },
   "id": "e31fe217d30861a7",
   "execution_count": null
  },
  {
   "cell_type": "code",
   "outputs": [],
   "source": [
    "def is_numeric_value(x):\n",
    "    return type(x) == int or type(x) == float"
   ],
   "metadata": {
    "collapsed": false
   },
   "id": "b42f27354deed265",
   "execution_count": null
  },
  {
   "cell_type": "code",
   "outputs": [],
   "source": [
    "abalone_list = abalone_df.values.tolist()\n",
    "split_index = int(0.3 * len(abalone_list))\n",
    "\n",
    "test = abalone_list[:split_index:]\n",
    "train = abalone_list[split_index:]"
   ],
   "metadata": {
    "collapsed": false
   },
   "id": "33c0b3aee66b188a",
   "execution_count": null
  },
  {
   "cell_type": "code",
   "outputs": [],
   "source": [
    "class MyQuestioner:\n",
    "    def __init__(self, column, value):\n",
    "        self.column = column\n",
    "        self.value = value\n",
    "\n",
    "    def __repr__(self):\n",
    "        status = \"==\"\n",
    "        if is_numeric_value(self.value):\n",
    "            status = \">=\"\n",
    "        return f\"Is {headers[self.column]} {status} {self.value}\"\n",
    "\n",
    "    def compare(self, compared):\n",
    "        val = compared[self.column]\n",
    "        if is_numeric_value(val):\n",
    "            return val >= self.value\n",
    "        else:\n",
    "            return val == self.value"
   ],
   "metadata": {
    "collapsed": false
   },
   "id": "4597c4665ea8e7a9",
   "execution_count": null
  },
  {
   "cell_type": "code",
   "outputs": [],
   "source": [
    "print(MyQuestioner(0, \"F\"))\n",
    "print(MyQuestioner(0, 19))\n",
    "\n",
    "print(MyQuestioner(2, 19))\n",
    "print(MyQuestioner(2, \"19\"))"
   ],
   "metadata": {
    "collapsed": false
   },
   "id": "8b66e77a4c0d986c",
   "execution_count": null
  },
  {
   "cell_type": "code",
   "outputs": [],
   "source": [
    "compared = train[0]\n",
    "q = MyQuestioner(0, \"M\")\n",
    "print(q.compare(compared))\n",
    "\n",
    "q = MyQuestioner(0, 12)\n",
    "print(q.compare(compared))"
   ],
   "metadata": {
    "collapsed": false
   },
   "id": "d838ac3a6386c270",
   "execution_count": null
  },
  {
   "cell_type": "code",
   "outputs": [],
   "source": [
    "def partitioner(rows, myQuestion):\n",
    "    true_rows, false_rows = [], []\n",
    "    for row in rows:\n",
    "        if myQuestion.compare(row):\n",
    "            true_rows.append(row)\n",
    "        else:\n",
    "            false_rows.append(row)\n",
    "    return true_rows, false_rows"
   ],
   "metadata": {
    "collapsed": false
   },
   "id": "9af4a59dea1e1e76",
   "execution_count": null
  },
  {
   "cell_type": "code",
   "outputs": [],
   "source": [
    "true_rows, false_rows = partitioner(train, MyQuestioner(0, 'M'))\n",
    "true_rows"
   ],
   "metadata": {
    "collapsed": false
   },
   "id": "b7c8165310c7caf7",
   "execution_count": null
  },
  {
   "cell_type": "code",
   "outputs": [],
   "source": [
    "false_rows"
   ],
   "metadata": {
    "collapsed": false
   },
   "id": "187a264ee0039e5e",
   "execution_count": null
  },
  {
   "cell_type": "code",
   "outputs": [],
   "source": [
    "def class_counts(rows):\n",
    "    counts = {}  # a dictionary of label -> count.\n",
    "    for row in rows:\n",
    "        label = row[-1] # in our dataset format, the label is always the last column\n",
    "        if label not in counts:\n",
    "            counts[label] = 0\n",
    "        counts[label] += 1\n",
    "    return counts"
   ],
   "metadata": {
    "collapsed": false
   },
   "id": "d39d812eda353f2a",
   "execution_count": null
  },
  {
   "cell_type": "code",
   "outputs": [],
   "source": [
    "counts = class_counts(train)\n",
    "print(counts)"
   ],
   "metadata": {
    "collapsed": false
   },
   "id": "d8ded9b8454dc4f9",
   "execution_count": null
  },
  {
   "cell_type": "code",
   "outputs": [],
   "source": [
    "def gini_impurity(rows): # There are some ways like entropy, but I use gini impurity : \n",
    "    #  https://medium.com/machine-learning-t%C3%BCrkiye/karar-agaclari-algoritmasi-b823c23997d0#:~:text=Gini%20impurity%20nedir,%C3%B6l%C3%A7mek%20i%C3%A7in%20kullan%C4%B1labilir.\n",
    "    \n",
    "    impurityValue = 1\n",
    "    counts = class_counts(rows)\n",
    "    \n",
    "    for label in counts:\n",
    "        probability_of_label = counts[label] / float(len(rows))\n",
    "        impurityValue -= probability_of_label ** 2\n",
    "        \n",
    "    return impurityValue"
   ],
   "metadata": {
    "collapsed": false
   },
   "id": "f162d228fb03adfc",
   "execution_count": null
  },
  {
   "cell_type": "code",
   "outputs": [],
   "source": [
    "current_uncertainty = gini_impurity(train)\n",
    "current_uncertainty"
   ],
   "metadata": {
    "collapsed": false
   },
   "id": "f4b2f2b03f03add5",
   "execution_count": null
  },
  {
   "cell_type": "code",
   "outputs": [],
   "source": [
    "def information_gain(left, right, current_uncertainty):\n",
    "    # Information Gain: The uncertainty of the starting node, minus the weighted impurity of two child nodes.\n",
    "\n",
    "    p = float(len(left)) / (len(left) + len(right))\n",
    "    return current_uncertainty - (1 - p) * gini_impurity(right) - p * gini_impurity(left)"
   ],
   "metadata": {
    "collapsed": false
   },
   "id": "f753608314c3b5fa",
   "execution_count": null
  },
  {
   "cell_type": "code",
   "outputs": [],
   "source": [
    "# How much information do we gain by partioning on 'F (Female)' ?\n",
    "true_rows, false_rows = partitioner(train, MyQuestioner(0, \"F\"))\n",
    "information_gain(true_rows, false_rows, current_uncertainty)"
   ],
   "metadata": {
    "collapsed": false
   },
   "id": "a7e3510edfa61b5",
   "execution_count": null
  },
  {
   "cell_type": "code",
   "outputs": [],
   "source": [
    "def find_the_best_split(rows):\n",
    "    # Find the best question to ask by iterating over every feature / value and calculating the information gain.\n",
    "    best_gain = 0  # keep track of the best information gain\n",
    "    best_question = None  # keep train of the feature / value that produced it\n",
    "    n_features = len(rows[0]) - 1  # number of columns\n",
    "    current_uncertainty = gini_impurity(rows)\n",
    "\n",
    "    for col in range(n_features):  # for each feature\n",
    "\n",
    "        values = set([row[col] for row in rows])  # unique values in the column\n",
    "\n",
    "        for val in values:  # for each value\n",
    "\n",
    "            question = MyQuestioner(col, val)          \n",
    "            true_rows, false_rows = partitioner(rows, question)  # try splitting the dataset\n",
    "\n",
    "            if len(true_rows) == 0 or len(false_rows) == 0: # Skip this split if it doesn't divide the dataset.\n",
    "                continue\n",
    "\n",
    "            gain = information_gain(true_rows, false_rows, current_uncertainty) # Calculate the information gain from this split\n",
    "\n",
    "            # You actually can use '>=' instead of '>' here, but I wanted the tree to look a certain way for our dataset.\n",
    "            if gain > best_gain:\n",
    "                best_gain, best_question = gain, question\n",
    "\n",
    "    return best_gain, best_question"
   ],
   "metadata": {
    "collapsed": false
   },
   "id": "97fb3982e9fd875e",
   "execution_count": null
  },
  {
   "cell_type": "code",
   "outputs": [],
   "source": [
    "best_gain, best_question = find_the_best_split(train)\n",
    "best_question"
   ],
   "metadata": {
    "collapsed": false
   },
   "id": "22cc5d204957c047",
   "execution_count": null
  },
  {
   "cell_type": "code",
   "outputs": [],
   "source": [
    "class Leaf:\n",
    "    # A Leaf node classifies data: so this holds a dictionary of class ( for us Old, Mediun or Young) \n",
    "    #   -> number of times it appears in the rows from the training data that reach this leaf.\n",
    "\n",
    "    def __init__(self, rows):\n",
    "        self.predictions = class_counts(rows)"
   ],
   "metadata": {
    "collapsed": false
   },
   "id": "c604bebb15df1927",
   "execution_count": null
  },
  {
   "cell_type": "code",
   "outputs": [],
   "source": [
    "class Decision_Node:\n",
    "    # A Decision Node asks a question: This holds a reference to the question, and to the two child nodes.\n",
    "\n",
    "    def __init__(self,\n",
    "                 question,\n",
    "                 true_branch,\n",
    "                 false_branch):\n",
    "        self.question = question\n",
    "        self.true_branch = true_branch\n",
    "        self.false_branch = false_branch"
   ],
   "metadata": {
    "collapsed": false
   },
   "id": "dfba37318527965c",
   "execution_count": null
  },
  {
   "cell_type": "code",
   "outputs": [],
   "source": [
    "def build_my_tree(rows, max_depth, attribute_types, curr_depth=0):\n",
    "    \"\"\"Builds the tree.\n",
    "    \n",
    "    Rules of recursion: \n",
    "        2) Start by checking for the base case (no further information gain). \n",
    "        3) Prepare for giant stack traces.\n",
    "    \"\"\"\n",
    "    \n",
    "    if (curr_depth <= max_depth):\n",
    "        # Try partitioing the dataset on each of the unique attribute,\n",
    "        # calculate the information gain,\n",
    "        # and return the question that produces the highest gain.\n",
    "        gain, question = find_the_best_split(rows)\n",
    "    \n",
    "        # Base case: no further info gain\n",
    "        # Since we can ask no further questions,\n",
    "        # we'll return a leaf.\n",
    "        if gain == 0:\n",
    "            return Leaf(rows)\n",
    "    \n",
    "        true_rows, false_rows = partitioner(rows, question)\n",
    "        true_branch = build_my_tree(true_rows, max_depth, attribute_types, curr_depth + 1) # Recursively build the true branch.\n",
    "        false_branch = build_my_tree(false_rows, max_depth, attribute_types, curr_depth + 1) # Recursively build the false branch.\n",
    "    \n",
    "        # Return a Decision_Node.\n",
    "        # This records the best feature / value to ask at this point, as well as the branches to follow depending on the answer.\n",
    "    \n",
    "        return Decision_Node(question, true_branch, false_branch)\n",
    "    \n",
    "    return Leaf(rows)"
   ],
   "metadata": {
    "collapsed": false
   },
   "id": "8e5ac29f322dbfd1",
   "execution_count": null
  },
  {
   "cell_type": "code",
   "outputs": [],
   "source": [
    "def print_tree(node, spacing=\"\"):\n",
    "    \"\"\"World's most elegant tree printing function.\"\"\"\n",
    "\n",
    "    # Base case: we've reached a leaf\n",
    "    if isinstance(node, Leaf):\n",
    "        print (spacing + \"Predict\", node.predictions)\n",
    "        return\n",
    "\n",
    "    # Print the question at this node\n",
    "    print (spacing + str(node.question))\n",
    "\n",
    "    # Call this function recursively on the true branch\n",
    "    print (spacing + '--> True:')\n",
    "    print_tree(node.true_branch, spacing + \"  \")\n",
    "\n",
    "    # Call this function recursively on the false branch\n",
    "    print (spacing + '--> False:')\n",
    "    print_tree(node.false_branch, spacing + \"  \")"
   ],
   "metadata": {
    "collapsed": false
   },
   "id": "985d5ed887390c0d",
   "execution_count": null
  },
  {
   "cell_type": "code",
   "outputs": [],
   "source": [
    "def build_dt(X, y, attribute_types, options):\n",
    "    # rows = [sublist + [y[i % len(y)]] for i, sublist in enumerate(X)]\n",
    "    \n",
    "    rows = np.concatenate((X, y), axis=1).tolist()\n",
    "    print(options[\"max_depth\"])\n",
    "    return build_my_tree(rows, options[\"max_depth\"], attribute_types)"
   ],
   "metadata": {
    "collapsed": false
   },
   "id": "3822650cb6e90798",
   "execution_count": null
  },
  {
   "cell_type": "code",
   "outputs": [],
   "source": [
    "class_counts(train)"
   ],
   "metadata": {
    "collapsed": false
   },
   "id": "319321d4f32f1db8",
   "execution_count": 0
  },
  {
   "cell_type": "code",
   "outputs": [],
   "source": [
    "def classify(row, node):\n",
    "    \"\"\"See the 'rules of recursion' above.\"\"\"\n",
    "\n",
    "    # Base case: we've reached a leaf\n",
    "    if isinstance(node, Leaf):\n",
    "        return node.predictions\n",
    "\n",
    "    # Decide whether to follow the true-branch or the false-branch.\n",
    "    # Compare the feature / value stored in the node,\n",
    "    # to the example we're considering.\n",
    "    if node.question.compare(row):\n",
    "        return classify(row, node.true_branch)\n",
    "    else:\n",
    "        return classify(row, node.false_branch)"
   ],
   "metadata": {
    "collapsed": false
   },
   "id": "8931afbc853a5d61",
   "execution_count": null
  },
  {
   "cell_type": "code",
   "outputs": [],
   "source": [
    "def print_leaf(counts):\n",
    "    \"\"\"A nicer way to print the predictions at a leaf.\"\"\"\n",
    "    total = sum(counts.values()) * 1.0\n",
    "    probs = {}\n",
    "    for lbl in counts.keys():\n",
    "        probs[lbl] = str(int(counts[lbl] / total * 100)) + \"%\"\n",
    "    return probs"
   ],
   "metadata": {
    "collapsed": false
   },
   "id": "17d0c4caf0f6bead",
   "execution_count": null
  },
  {
   "cell_type": "code",
   "outputs": [],
   "source": [
    "X = abalone_df.iloc[:, :-1].values\n",
    "y = abalone_df.iloc[:, -1].values.reshape(-1,1)\n",
    "\n",
    "options = {\"max_depth\":2}\n",
    "attribute_types = abalone_df.dtypes.apply(str).tolist()\n",
    "X_train, X_test, y_train, y_test = train_test_split(X, y, test_size=.2, random_state=41)\n",
    "\n",
    "my_tree = build_dt(X_train, y_train, attribute_types, options)\n",
    "print_tree(my_tree)"
   ],
   "metadata": {
    "collapsed": false
   },
   "id": "a21dfdfa75164389",
   "execution_count": null
  },
  {
   "cell_type": "code",
   "outputs": [],
   "source": [
    "for row in test:\n",
    "    print (\"Actual: %s. Predicted: %s\" % (row[-1], print_leaf(classify(row, my_tree))))"
   ],
   "metadata": {
    "collapsed": false
   },
   "id": "5c8c1c749c161e0",
   "execution_count": null
  }
 ],
 "metadata": {
  "kernelspec": {
   "display_name": "Python 3",
   "language": "python",
   "name": "python3"
  },
  "language_info": {
   "codemirror_mode": {
    "name": "ipython",
    "version": 2
   },
   "file_extension": ".py",
   "mimetype": "text/x-python",
   "name": "python",
   "nbconvert_exporter": "python",
   "pygments_lexer": "ipython2",
   "version": "2.7.6"
  }
 },
 "nbformat": 4,
 "nbformat_minor": 5
}
