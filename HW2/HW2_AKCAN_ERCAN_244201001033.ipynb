{
 "cells": [
  {
   "cell_type": "markdown",
   "source": [
    "### for data visualize\n",
    "\n",
    "https://batuhandaz.medium.com/decision-tree-algoritmas%C4%B1-karar-a%C4%9Fac%C4%B1-machine-learning-78d856b1f457\n",
    "https://ece-akdagli.medium.com/makine-%C3%B6%C4%9Frenmesinde-decision-tree-42a86502ee75\n",
    "https://erdincuzun.com/makine_ogrenmesi/decision-tree-karar-agaci-id3-algoritmasi-classification-siniflama/"
   ],
   "metadata": {
    "collapsed": false
   },
   "id": "1d5a7b5fedced1fc"
  },
  {
   "cell_type": "markdown",
   "source": [
    "### Import Librarires And Dataset"
   ],
   "metadata": {
    "collapsed": false
   },
   "id": "cfb530db8c23b6ef"
  },
  {
   "cell_type": "code",
   "outputs": [],
   "source": [
    "import warnings\n",
    "import pandas as pd\n",
    "import numpy as np\n",
    "from sklearn.model_selection import train_test_split\n",
    "\n",
    "#some settings to show data\n",
    "warnings.filterwarnings('ignore')\n",
    "pd.set_option('display.max_columns', 50)\n",
    "pd.set_option('display.max_rows', 50)\n",
    "\n",
    "# target_url = (\"http://archive.ics.uci.edu/ml/machine-learning-databases/abalone/abalone.data\")\n",
    "target_url = (\"datasets/abalone.data\")\n",
    "abalone_df = pd.read_csv(target_url)\n",
    "headers = ['Sex', 'Length', 'Diameter', 'Height', 'Whole weight', 'Shucked weight', 'Viscera weight', 'Shell weight',\n",
    "           'Rings']\n",
    "abalone_df.columns = headers"
   ],
   "metadata": {
    "collapsed": false,
    "ExecuteTime": {
     "end_time": "2024-04-30T09:40:57.881401Z",
     "start_time": "2024-04-30T09:40:57.434757Z"
    }
   },
   "id": "c8c4930521663c7e",
   "execution_count": 1
  },
  {
   "cell_type": "markdown",
   "source": [
    "### Analyze the Data"
   ],
   "metadata": {
    "collapsed": false
   },
   "id": "b2c4fa2833ff788d"
  },
  {
   "cell_type": "code",
   "outputs": [
    {
     "data": {
      "text/plain": "  Sex  Length  Diameter  Height  Whole weight  Shucked weight  Viscera weight  \\\n0   M   0.350     0.265   0.090        0.2255          0.0995          0.0485   \n1   F   0.530     0.420   0.135        0.6770          0.2565          0.1415   \n2   M   0.440     0.365   0.125        0.5160          0.2155          0.1140   \n3   I   0.330     0.255   0.080        0.2050          0.0895          0.0395   \n4   I   0.425     0.300   0.095        0.3515          0.1410          0.0775   \n\n   Shell weight  Rings  \n0         0.070      7  \n1         0.210      9  \n2         0.155     10  \n3         0.055      7  \n4         0.120      8  ",
      "text/html": "<div>\n<style scoped>\n    .dataframe tbody tr th:only-of-type {\n        vertical-align: middle;\n    }\n\n    .dataframe tbody tr th {\n        vertical-align: top;\n    }\n\n    .dataframe thead th {\n        text-align: right;\n    }\n</style>\n<table border=\"1\" class=\"dataframe\">\n  <thead>\n    <tr style=\"text-align: right;\">\n      <th></th>\n      <th>Sex</th>\n      <th>Length</th>\n      <th>Diameter</th>\n      <th>Height</th>\n      <th>Whole weight</th>\n      <th>Shucked weight</th>\n      <th>Viscera weight</th>\n      <th>Shell weight</th>\n      <th>Rings</th>\n    </tr>\n  </thead>\n  <tbody>\n    <tr>\n      <th>0</th>\n      <td>M</td>\n      <td>0.350</td>\n      <td>0.265</td>\n      <td>0.090</td>\n      <td>0.2255</td>\n      <td>0.0995</td>\n      <td>0.0485</td>\n      <td>0.070</td>\n      <td>7</td>\n    </tr>\n    <tr>\n      <th>1</th>\n      <td>F</td>\n      <td>0.530</td>\n      <td>0.420</td>\n      <td>0.135</td>\n      <td>0.6770</td>\n      <td>0.2565</td>\n      <td>0.1415</td>\n      <td>0.210</td>\n      <td>9</td>\n    </tr>\n    <tr>\n      <th>2</th>\n      <td>M</td>\n      <td>0.440</td>\n      <td>0.365</td>\n      <td>0.125</td>\n      <td>0.5160</td>\n      <td>0.2155</td>\n      <td>0.1140</td>\n      <td>0.155</td>\n      <td>10</td>\n    </tr>\n    <tr>\n      <th>3</th>\n      <td>I</td>\n      <td>0.330</td>\n      <td>0.255</td>\n      <td>0.080</td>\n      <td>0.2050</td>\n      <td>0.0895</td>\n      <td>0.0395</td>\n      <td>0.055</td>\n      <td>7</td>\n    </tr>\n    <tr>\n      <th>4</th>\n      <td>I</td>\n      <td>0.425</td>\n      <td>0.300</td>\n      <td>0.095</td>\n      <td>0.3515</td>\n      <td>0.1410</td>\n      <td>0.0775</td>\n      <td>0.120</td>\n      <td>8</td>\n    </tr>\n  </tbody>\n</table>\n</div>"
     },
     "execution_count": 2,
     "metadata": {},
     "output_type": "execute_result"
    }
   ],
   "source": [
    "abalone_df.head()"
   ],
   "metadata": {
    "collapsed": false,
    "ExecuteTime": {
     "end_time": "2024-04-30T09:40:57.890545Z",
     "start_time": "2024-04-30T09:40:57.882444Z"
    }
   },
   "id": "231f1ce4be95c7fa",
   "execution_count": 2
  },
  {
   "cell_type": "code",
   "outputs": [
    {
     "name": "stdout",
     "output_type": "stream",
     "text": [
      "<class 'pandas.core.frame.DataFrame'>\n",
      "RangeIndex: 4176 entries, 0 to 4175\n",
      "Data columns (total 9 columns):\n",
      " #   Column          Non-Null Count  Dtype  \n",
      "---  ------          --------------  -----  \n",
      " 0   Sex             4176 non-null   object \n",
      " 1   Length          4176 non-null   float64\n",
      " 2   Diameter        4176 non-null   float64\n",
      " 3   Height          4176 non-null   float64\n",
      " 4   Whole weight    4176 non-null   float64\n",
      " 5   Shucked weight  4176 non-null   float64\n",
      " 6   Viscera weight  4176 non-null   float64\n",
      " 7   Shell weight    4176 non-null   float64\n",
      " 8   Rings           4176 non-null   int64  \n",
      "dtypes: float64(7), int64(1), object(1)\n",
      "memory usage: 293.8+ KB\n"
     ]
    }
   ],
   "source": [
    "abalone_df.info()"
   ],
   "metadata": {
    "collapsed": false,
    "ExecuteTime": {
     "end_time": "2024-04-30T09:40:57.904189Z",
     "start_time": "2024-04-30T09:40:57.891189Z"
    }
   },
   "id": "c508677f8a21b077",
   "execution_count": 3
  },
  {
   "cell_type": "markdown",
   "source": [
    "**Get target value**"
   ],
   "metadata": {
    "collapsed": false
   },
   "id": "66d15bd1c01a1"
  },
  {
   "cell_type": "code",
   "outputs": [],
   "source": [
    "# If you want the target values to be categorical rather than numeric, this process should be applied.\n",
    "\n",
    "# for ix in abalone_df.index:\n",
    "#     row = abalone_df.loc[ix]\n",
    "#     if row[\"Rings\"] <= 8:\n",
    "#         abalone_df.loc[ix, 'Rings'] = 'Young'\n",
    "#     elif row[\"Rings\"] >= 11:\n",
    "#         abalone_df.loc[ix, 'Rings'] = 'Old'\n",
    "#     elif row[\"Rings\"] >=9 & row[\"Rings\"] <= 10:\n",
    "#         abalone_df.loc[ix, 'Rings'] = 'Medium'"
   ],
   "metadata": {
    "collapsed": false,
    "ExecuteTime": {
     "end_time": "2024-04-30T09:40:57.907725Z",
     "start_time": "2024-04-30T09:40:57.904742Z"
    }
   },
   "id": "2d2a1e172874f51",
   "execution_count": 4
  },
  {
   "cell_type": "code",
   "outputs": [],
   "source": [
    "def is_numeric_value(x):\n",
    "    return type(x) == int or type(x) == float"
   ],
   "metadata": {
    "collapsed": false,
    "ExecuteTime": {
     "end_time": "2024-04-30T09:40:57.914683Z",
     "start_time": "2024-04-30T09:40:57.908796Z"
    }
   },
   "id": "b42f27354deed265",
   "execution_count": 5
  },
  {
   "cell_type": "code",
   "outputs": [],
   "source": [
    "class MyQuestioner:\n",
    "    def __init__(self, column, value):\n",
    "        self.column = column\n",
    "        self.value = value\n",
    "\n",
    "    def __repr__(self):\n",
    "        status = \"==\"\n",
    "        if is_numeric_value(self.value):\n",
    "            status = \">=\"\n",
    "        return f\"Is {headers[self.column]} {status} {self.value}\"\n",
    "\n",
    "    def compare(self, compared):\n",
    "        val = compared[self.column]\n",
    "        if is_numeric_value(val):\n",
    "            return val >= self.value\n",
    "        else:\n",
    "            return val == self.value"
   ],
   "metadata": {
    "collapsed": false,
    "ExecuteTime": {
     "end_time": "2024-04-30T09:40:57.921875Z",
     "start_time": "2024-04-30T09:40:57.915163Z"
    }
   },
   "id": "4597c4665ea8e7a9",
   "execution_count": 6
  },
  {
   "cell_type": "code",
   "outputs": [],
   "source": [
    "def partitioner(rows, myQuestion):\n",
    "    true_rows, false_rows = [], []\n",
    "    for row in rows:\n",
    "        if myQuestion.compare(row):\n",
    "            true_rows.append(row)\n",
    "        else:\n",
    "            false_rows.append(row)\n",
    "    return true_rows, false_rows"
   ],
   "metadata": {
    "collapsed": false,
    "ExecuteTime": {
     "end_time": "2024-04-30T09:40:57.928862Z",
     "start_time": "2024-04-30T09:40:57.922442Z"
    }
   },
   "id": "9af4a59dea1e1e76",
   "execution_count": 7
  },
  {
   "cell_type": "code",
   "outputs": [],
   "source": [
    "def class_counts(rows):\n",
    "    counts = {}  # a dictionary of label -> count.\n",
    "    for row in rows:\n",
    "        label = row[-1]  # in our dataset format, the label is always the last column\n",
    "        if label not in counts:\n",
    "            counts[label] = 0\n",
    "        counts[label] += 1\n",
    "    return counts"
   ],
   "metadata": {
    "collapsed": false,
    "ExecuteTime": {
     "end_time": "2024-04-30T09:40:57.935708Z",
     "start_time": "2024-04-30T09:40:57.929431Z"
    }
   },
   "id": "d39d812eda353f2a",
   "execution_count": 8
  },
  {
   "cell_type": "code",
   "outputs": [],
   "source": [
    "def gini_impurity(rows):  # There are some ways like entropy, but I use gini impurity : \n",
    "    #  https://medium.com/machine-learning-t%C3%BCrkiye/karar-agaclari-algoritmasi-b823c23997d0#:~:text=Gini%20impurity%20nedir,%C3%B6l%C3%A7mek%20i%C3%A7in%20kullan%C4%B1labilir.\n",
    "\n",
    "    impurityValue = 1\n",
    "    counts = class_counts(rows)\n",
    "\n",
    "    for label in counts:\n",
    "        probability_of_label = counts[label] / float(len(rows))\n",
    "        impurityValue -= probability_of_label ** 2\n",
    "\n",
    "    return impurityValue"
   ],
   "metadata": {
    "collapsed": false,
    "ExecuteTime": {
     "end_time": "2024-04-30T09:40:57.944522Z",
     "start_time": "2024-04-30T09:40:57.936189Z"
    }
   },
   "id": "f162d228fb03adfc",
   "execution_count": 9
  },
  {
   "cell_type": "code",
   "outputs": [],
   "source": [
    "def information_gain(left, right, current_uncertainty):\n",
    "    # Information Gain: The uncertainty of the starting node, minus the weighted impurity of two child nodes.\n",
    "\n",
    "    p = float(len(left)) / (len(left) + len(right))\n",
    "    return current_uncertainty - (1 - p) * gini_impurity(right) - p * gini_impurity(left)"
   ],
   "metadata": {
    "collapsed": false,
    "ExecuteTime": {
     "end_time": "2024-04-30T09:40:57.951564Z",
     "start_time": "2024-04-30T09:40:57.945152Z"
    }
   },
   "id": "f753608314c3b5fa",
   "execution_count": 10
  },
  {
   "cell_type": "code",
   "outputs": [],
   "source": [
    "def find_the_best_split(rows):\n",
    "    best_gain = 0  # best information gain\n",
    "    best_question = None\n",
    "    n_features = len(rows[0]) - 1  # column numbers\n",
    "    current_uncertainty = gini_impurity(rows)\n",
    "\n",
    "    for col in range(n_features):  # for each feature\n",
    "        values = set([row[col] for row in rows])  # unique values in the column\n",
    "\n",
    "        for val in values:  # for each value\n",
    "            question = MyQuestioner(col, val)\n",
    "            true_rows, false_rows = partitioner(rows, question)  # try partitioner\n",
    "\n",
    "            if len(true_rows) == 0 or len(false_rows) == 0:  # if there is no dataset, skip\n",
    "                continue\n",
    "\n",
    "            gain = information_gain(true_rows, false_rows, current_uncertainty)\n",
    "\n",
    "            if gain > best_gain:\n",
    "                best_gain, best_question = gain, question\n",
    "\n",
    "    return best_gain, best_question"
   ],
   "metadata": {
    "collapsed": false,
    "ExecuteTime": {
     "end_time": "2024-04-30T09:40:57.958682Z",
     "start_time": "2024-04-30T09:40:57.952106Z"
    }
   },
   "id": "97fb3982e9fd875e",
   "execution_count": 11
  },
  {
   "cell_type": "code",
   "outputs": [],
   "source": [
    "class Leaf:  # Leaf node is last of three, it has a value, has not any tree\n",
    "    def __init__(self, rows):\n",
    "        self.predictions = class_counts(rows)"
   ],
   "metadata": {
    "collapsed": false,
    "ExecuteTime": {
     "end_time": "2024-04-30T09:40:57.965690Z",
     "start_time": "2024-04-30T09:40:57.959236Z"
    }
   },
   "id": "c604bebb15df1927",
   "execution_count": 12
  },
  {
   "cell_type": "code",
   "outputs": [],
   "source": [
    "class Decision_Node:  # A Decision Node has two branch true or false\n",
    "    def __init__(self,\n",
    "                 question,\n",
    "                 true_branch,\n",
    "                 false_branch):\n",
    "        self.question = question\n",
    "        self.true_branch = true_branch\n",
    "        self.false_branch = false_branch"
   ],
   "metadata": {
    "collapsed": false,
    "ExecuteTime": {
     "end_time": "2024-04-30T09:40:57.974215Z",
     "start_time": "2024-04-30T09:40:57.966259Z"
    }
   },
   "id": "dfba37318527965c",
   "execution_count": 13
  },
  {
   "cell_type": "code",
   "outputs": [],
   "source": [
    "def show_my_tree(node, spacing=\"\"):\n",
    "    if isinstance(node, Leaf):\n",
    "        print(spacing + \"Predict\", predict_one(node.predictions))\n",
    "        return\n",
    "\n",
    "    print(spacing + str(node.question))\n",
    "\n",
    "    print(spacing + '--> False/Left:')\n",
    "    show_my_tree(node.false_branch, spacing + \"  \")\n",
    "\n",
    "    print(spacing + '--> True/Right:')\n",
    "    show_my_tree(node.true_branch, spacing + \"  \")"
   ],
   "metadata": {
    "collapsed": false,
    "ExecuteTime": {
     "end_time": "2024-04-30T09:40:57.981231Z",
     "start_time": "2024-04-30T09:40:57.975700Z"
    }
   },
   "id": "985d5ed887390c0d",
   "execution_count": 14
  },
  {
   "cell_type": "code",
   "outputs": [],
   "source": [
    "def classify(row, node):\n",
    "    if isinstance(node, Leaf):\n",
    "        return node.predictions\n",
    "\n",
    "    if node.question.compare(row):\n",
    "        return classify(row, node.true_branch)\n",
    "    else:\n",
    "        return classify(row, node.false_branch)"
   ],
   "metadata": {
    "collapsed": false,
    "ExecuteTime": {
     "end_time": "2024-04-30T09:40:57.988324Z",
     "start_time": "2024-04-30T09:40:57.981819Z"
    }
   },
   "id": "8931afbc853a5d61",
   "execution_count": 15
  },
  {
   "cell_type": "code",
   "outputs": [],
   "source": [
    "def predict_one(counts):\n",
    "    return max(counts, key=counts.get)"
   ],
   "metadata": {
    "collapsed": false,
    "ExecuteTime": {
     "end_time": "2024-04-30T09:40:57.995114Z",
     "start_time": "2024-04-30T09:40:57.988863Z"
    }
   },
   "id": "d4148f16a088b89b",
   "execution_count": 16
  },
  {
   "cell_type": "code",
   "outputs": [],
   "source": [
    " def predict_all(X, tree):\n",
    "    preditions = []\n",
    "    # preditions = [max(classify(row, tree), key=classify(row, tree).get) for row in X]\n",
    "\n",
    "    for row in X:\n",
    "        cl = classify(row, tree)\n",
    "        preditions.append(max(cl, key=cl.get))\n",
    "\n",
    "    return preditions"
   ],
   "metadata": {
    "collapsed": false,
    "ExecuteTime": {
     "end_time": "2024-04-30T09:40:58.002002Z",
     "start_time": "2024-04-30T09:40:57.995740Z"
    }
   },
   "id": "5a8ce5b66eafe71f",
   "execution_count": 17
  },
  {
   "cell_type": "code",
   "outputs": [],
   "source": [
    "def print_leaf(counts):\n",
    "    total = sum(counts.values()) * 1.0\n",
    "    probs = {}\n",
    "    for lbl in counts.keys():\n",
    "        probs[lbl] = str(int(counts[lbl] / total * 100)) + \"%\"\n",
    "    return probs"
   ],
   "metadata": {
    "collapsed": false,
    "ExecuteTime": {
     "end_time": "2024-04-30T09:40:58.009189Z",
     "start_time": "2024-04-30T09:40:58.002532Z"
    }
   },
   "id": "17d0c4caf0f6bead",
   "execution_count": 18
  },
  {
   "cell_type": "code",
   "outputs": [],
   "source": [
    "def builder(rows, max_depth, attribute_types, curr_depth=0):\n",
    "    if (curr_depth <= max_depth):\n",
    "        gain, question = find_the_best_split(rows)\n",
    "\n",
    "        if gain == 0:\n",
    "            return Leaf(rows)\n",
    "\n",
    "        true_rows, false_rows = partitioner(rows, question)\n",
    "        true_branch = builder(true_rows, max_depth, attribute_types, curr_depth + 1)  # Recursive call\n",
    "        false_branch = builder(false_rows, max_depth, attribute_types, curr_depth + 1)  # Recursive call\n",
    "        return Decision_Node(question, true_branch, false_branch)\n",
    "\n",
    "    return Leaf(rows)"
   ],
   "metadata": {
    "collapsed": false,
    "ExecuteTime": {
     "end_time": "2024-04-30T09:40:58.021666Z",
     "start_time": "2024-04-30T09:40:58.010018Z"
    }
   },
   "id": "8e5ac29f322dbfd1",
   "execution_count": 19
  },
  {
   "cell_type": "code",
   "outputs": [],
   "source": [
    "def build_dt(X, y, attribute_types, options):\n",
    "    rows = np.concatenate((X, y), axis=1).tolist()\n",
    "    return builder(rows, options[\"max_depth\"], attribute_types)"
   ],
   "metadata": {
    "collapsed": false,
    "ExecuteTime": {
     "end_time": "2024-04-30T09:40:58.030367Z",
     "start_time": "2024-04-30T09:40:58.022293Z"
    }
   },
   "id": "3822650cb6e90798",
   "execution_count": 20
  },
  {
   "cell_type": "code",
   "outputs": [],
   "source": [
    "X = abalone_df.iloc[:, :-1].values\n",
    "y = abalone_df.iloc[:, -1].values.reshape(-1, 1)\n",
    "\n",
    "options = {\"max_depth\": 2}\n",
    "attribute_types = abalone_df.dtypes.apply(str).tolist()\n",
    "X_train, X_test, y_train, y_test = train_test_split(X, y, test_size=.2, random_state=41)\n",
    "\n",
    "my_tree = build_dt(X_train, y_train, attribute_types, options)"
   ],
   "metadata": {
    "collapsed": false,
    "ExecuteTime": {
     "end_time": "2024-04-30T09:41:03.865663Z",
     "start_time": "2024-04-30T09:40:58.030920Z"
    }
   },
   "id": "a21dfdfa75164389",
   "execution_count": 21
  },
  {
   "cell_type": "code",
   "outputs": [
    {
     "name": "stdout",
     "output_type": "stream",
     "text": [
      "Is Shell weight >= 0.145\n",
      "--> False/Left:\n",
      "  Is Diameter >= 0.225\n",
      "  --> False/Left:\n",
      "    Is Shell weight >= 0.022\n",
      "    --> False/Left:\n",
      "      Predict 4\n",
      "    --> True/Right:\n",
      "      Predict 5\n",
      "  --> True/Right:\n",
      "    Is Sex == I\n",
      "    --> False/Left:\n",
      "      Predict 9\n",
      "    --> True/Right:\n",
      "      Predict 7\n",
      "--> True/Right:\n",
      "  Is Shell weight >= 0.2575\n",
      "  --> False/Left:\n",
      "    Is Shucked weight >= 0.4315\n",
      "    --> False/Left:\n",
      "      Predict 9\n",
      "    --> True/Right:\n",
      "      Predict 9\n",
      "  --> True/Right:\n",
      "    Is Shell weight >= 0.3945\n",
      "    --> False/Left:\n",
      "      Predict 10\n",
      "    --> True/Right:\n",
      "      Predict 11\n"
     ]
    }
   ],
   "source": [
    "show_my_tree(my_tree)"
   ],
   "metadata": {
    "collapsed": false,
    "ExecuteTime": {
     "end_time": "2024-04-30T09:41:03.868328Z",
     "start_time": "2024-04-30T09:41:03.866469Z"
    }
   },
   "id": "435d9bc90f1fab98",
   "execution_count": 22
  },
  {
   "cell_type": "code",
   "outputs": [
    {
     "data": {
      "text/plain": "0.24760765550239233"
     },
     "execution_count": 23,
     "metadata": {},
     "output_type": "execute_result"
    }
   ],
   "source": [
    "from sklearn.metrics import accuracy_score\n",
    "y_pred = predict_all(X_test, my_tree)\n",
    "accuracy_score(y_test, y_pred)"
   ],
   "metadata": {
    "collapsed": false,
    "ExecuteTime": {
     "end_time": "2024-04-30T09:41:03.885068Z",
     "start_time": "2024-04-30T09:41:03.868807Z"
    }
   },
   "id": "a604929f3968b701",
   "execution_count": 23
  }
 ],
 "metadata": {
  "kernelspec": {
   "display_name": "Python 3",
   "language": "python",
   "name": "python3"
  },
  "language_info": {
   "codemirror_mode": {
    "name": "ipython",
    "version": 2
   },
   "file_extension": ".py",
   "mimetype": "text/x-python",
   "name": "python",
   "nbconvert_exporter": "python",
   "pygments_lexer": "ipython2",
   "version": "2.7.6"
  }
 },
 "nbformat": 4,
 "nbformat_minor": 5
}
