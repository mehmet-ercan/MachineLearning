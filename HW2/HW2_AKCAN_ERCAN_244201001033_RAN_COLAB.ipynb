{
 "cells": [
  {
   "cell_type": "markdown",
   "source": [
    "### Import Librarires And Dataset"
   ],
   "metadata": {
    "collapsed": false,
    "id": "cfb530db8c23b6ef"
   },
   "id": "cfb530db8c23b6ef"
  },
  {
   "cell_type": "code",
   "source": [
    "import warnings\n",
    "import pandas as pd\n",
    "import numpy as np\n",
    "import matplotlib.pyplot as plt\n",
    "import seaborn as sns\n",
    "\n",
    "from sklearn.model_selection import train_test_split\n",
    "from sklearn.model_selection import KFold\n",
    "from sklearn.metrics import accuracy_score\n",
    "from sklearn.metrics import confusion_matrix\n",
    "\n",
    "#some settings to show data\n",
    "warnings.filterwarnings('ignore')\n",
    "pd.set_option('display.max_columns', 50)\n",
    "pd.set_option('display.max_rows', 50)\n",
    "\n",
    "target_url = (\"http://archive.ics.uci.edu/ml/machine-learning-databases/abalone/abalone.data\")\n",
    "# target_url = \"datasets/abalone.data\" # if you work local dataset, more fast than a link\n",
    "abalone_df = pd.read_csv(target_url)\n",
    "headers = ['Sex', 'Length', 'Diameter', 'Height', 'Whole weight', 'Shucked weight', 'Viscera weight', 'Shell weight', 'Rings']\n",
    "abalone_df.columns = headers"
   ],
   "metadata": {
    "ExecuteTime": {
     "end_time": "2024-04-30T20:34:44.407657Z",
     "start_time": "2024-04-30T20:34:42.684901Z"
    },
    "id": "c8c4930521663c7e"
   },
   "id": "c8c4930521663c7e",
   "execution_count": 1,
   "outputs": []
  },
  {
   "cell_type": "markdown",
   "source": [
    "### Analyze the Data"
   ],
   "metadata": {
    "collapsed": false,
    "id": "b2c4fa2833ff788d"
   },
   "id": "b2c4fa2833ff788d"
  },
  {
   "cell_type": "code",
   "source": [
    "abalone_df.head()"
   ],
   "metadata": {
    "ExecuteTime": {
     "end_time": "2024-04-30T20:34:44.417686Z",
     "start_time": "2024-04-30T20:34:44.408549Z"
    },
    "colab": {
     "base_uri": "https://localhost:8080/",
     "height": 206
    },
    "id": "231f1ce4be95c7fa",
    "outputId": "780b032e-e0b8-4d10-aeed-eb2b9ca76a8f"
   },
   "id": "231f1ce4be95c7fa",
   "execution_count": 2,
   "outputs": []
  },
  {
   "cell_type": "code",
   "source": [
    "abalone_df.info()"
   ],
   "metadata": {
    "ExecuteTime": {
     "end_time": "2024-04-30T20:34:44.425386Z",
     "start_time": "2024-04-30T20:34:44.419050Z"
    },
    "colab": {
     "base_uri": "https://localhost:8080/"
    },
    "id": "c508677f8a21b077",
    "outputId": "c28e7cf3-fa41-4de2-9279-f880bd58b680"
   },
   "id": "c508677f8a21b077",
   "execution_count": 3,
   "outputs": []
  },
  {
   "cell_type": "markdown",
   "source": [
    "**Get target value**"
   ],
   "metadata": {
    "collapsed": false,
    "id": "66d15bd1c01a1"
   },
   "id": "66d15bd1c01a1"
  },
  {
   "cell_type": "code",
   "source": [
    "# If you want the target values to be numeric rather than categorical, actually if you want to regression, you can comment this cell\n",
    "for index in abalone_df.index:\n",
    "    row = abalone_df.loc[index]\n",
    "    if row[\"Rings\"] <= 8:\n",
    "        abalone_df.loc[index, 'Rings'] = 'Young'\n",
    "    elif row[\"Rings\"] >= 11:\n",
    "        abalone_df.loc[index, 'Rings'] = 'Old'\n",
    "    elif row[\"Rings\"] >=9 & row[\"Rings\"] <= 10:\n",
    "        abalone_df.loc[index, 'Rings'] = 'Medium'"
   ],
   "metadata": {
    "ExecuteTime": {
     "end_time": "2024-04-30T20:34:44.706184Z",
     "start_time": "2024-04-30T20:34:44.426859Z"
    },
    "id": "2d2a1e172874f51"
   },
   "id": "2d2a1e172874f51",
   "execution_count": 4,
   "outputs": []
  },
  {
   "cell_type": "code",
   "source": [
    "def is_numeric_value(x):\n",
    "    return type(x) == int or type(x) == float"
   ],
   "metadata": {
    "ExecuteTime": {
     "end_time": "2024-04-30T20:34:44.708649Z",
     "start_time": "2024-04-30T20:34:44.706704Z"
    },
    "id": "b42f27354deed265"
   },
   "id": "b42f27354deed265",
   "execution_count": 5,
   "outputs": []
  },
  {
   "cell_type": "code",
   "source": [
    "class MyQuestioner:\n",
    "    def __init__(self, column, value):\n",
    "        self.column = column\n",
    "        self.value = value\n",
    "\n",
    "    def __repr__(self):\n",
    "        status = \"==\"\n",
    "        if is_numeric_value(self.value):\n",
    "            status = \">=\"\n",
    "        return f\"Is {headers[self.column]} {status} {self.value}\"\n",
    "\n",
    "    def compare(self, compared):\n",
    "        val = compared[self.column]\n",
    "        if is_numeric_value(val):\n",
    "            return val >= self.value\n",
    "        else:\n",
    "            return val == self.value"
   ],
   "metadata": {
    "ExecuteTime": {
     "end_time": "2024-04-30T20:34:44.721996Z",
     "start_time": "2024-04-30T20:34:44.709262Z"
    },
    "id": "4597c4665ea8e7a9"
   },
   "id": "4597c4665ea8e7a9",
   "execution_count": 6,
   "outputs": []
  },
  {
   "cell_type": "code",
   "source": [
    "def partitioner(rows, my_question):\n",
    "    true_rows, false_rows = [], []\n",
    "    for row in rows:\n",
    "        if my_question.compare(row):\n",
    "            true_rows.append(row)\n",
    "        else:\n",
    "            false_rows.append(row)\n",
    "    return true_rows, false_rows"
   ],
   "metadata": {
    "ExecuteTime": {
     "end_time": "2024-04-30T20:34:44.726549Z",
     "start_time": "2024-04-30T20:34:44.722826Z"
    },
    "id": "9af4a59dea1e1e76"
   },
   "id": "9af4a59dea1e1e76",
   "execution_count": 7,
   "outputs": []
  },
  {
   "cell_type": "code",
   "source": [
    "def class_counts(rows):\n",
    "    counts = {}  # a dictionary -> { label: count }\n",
    "    for row in rows:\n",
    "        label = row[-1]  # in our dataset format, the label is the last column, so -1\n",
    "        if label not in counts:\n",
    "            counts[label] = 0\n",
    "        counts[label] += 1\n",
    "    return counts"
   ],
   "metadata": {
    "ExecuteTime": {
     "end_time": "2024-04-30T20:34:44.733187Z",
     "start_time": "2024-04-30T20:34:44.727621Z"
    },
    "id": "d39d812eda353f2a"
   },
   "id": "d39d812eda353f2a",
   "execution_count": 8,
   "outputs": []
  },
  {
   "cell_type": "code",
   "source": [
    "def gini_impurity(rows):  # There are some ways like entropy, but I use gini impurity :\n",
    "    #  https://medium.com/machine-learning-t%C3%BCrkiye/karar-agaclari-algoritmasi-b823c23997d0#:~:text=Gini%20impurity%20nedir,%C3%B6l%C3%A7mek%20i%C3%A7in%20kullan%C4%B1labilir.\n",
    "\n",
    "    impurity_value = 1\n",
    "    counts = class_counts(rows)\n",
    "\n",
    "    for label in counts:\n",
    "        probability_of_label = counts[label] / float(len(rows))\n",
    "        impurity_value -= probability_of_label ** 2\n",
    "\n",
    "    return impurity_value"
   ],
   "metadata": {
    "ExecuteTime": {
     "end_time": "2024-04-30T20:34:44.738953Z",
     "start_time": "2024-04-30T20:34:44.734111Z"
    },
    "id": "f162d228fb03adfc"
   },
   "id": "f162d228fb03adfc",
   "execution_count": 9,
   "outputs": []
  },
  {
   "cell_type": "code",
   "source": [
    "def information_gain(left, right, current_uncertainty):\n",
    "    # Information Gain: The uncertainty of the starting node, minus the weighted impurity of two child nodes.\n",
    "\n",
    "    p = float(len(left)) / (len(left) + len(right))\n",
    "    return current_uncertainty - (1 - p) * gini_impurity(right) - p * gini_impurity(left)"
   ],
   "metadata": {
    "ExecuteTime": {
     "end_time": "2024-04-30T20:34:44.743626Z",
     "start_time": "2024-04-30T20:34:44.739711Z"
    },
    "id": "f753608314c3b5fa"
   },
   "id": "f753608314c3b5fa",
   "execution_count": 10,
   "outputs": []
  },
  {
   "cell_type": "code",
   "source": [
    "def find_the_best_split(rows):\n",
    "    best_gain = 0  # best information gain\n",
    "    best_question = None\n",
    "    n_features = len(rows[0]) - 1  # column numbers\n",
    "    current_uncertainty = gini_impurity(rows)\n",
    "\n",
    "    for col in range(n_features):  # for each feature\n",
    "        values = set([row[col] for row in rows])  # unique values in the column\n",
    "\n",
    "        for val in values:  # for each value\n",
    "            question = MyQuestioner(col, val)\n",
    "            true_rows, false_rows = partitioner(rows, question)  # try partitioner\n",
    "\n",
    "            if len(true_rows) == 0 or len(false_rows) == 0:  # if there is no dataset, skip\n",
    "                continue\n",
    "\n",
    "            gain = information_gain(true_rows, false_rows, current_uncertainty)\n",
    "\n",
    "            if gain > best_gain:\n",
    "                best_gain, best_question = gain, question\n",
    "\n",
    "    return best_gain, best_question"
   ],
   "metadata": {
    "ExecuteTime": {
     "end_time": "2024-04-30T20:34:44.749636Z",
     "start_time": "2024-04-30T20:34:44.744424Z"
    },
    "id": "97fb3982e9fd875e"
   },
   "id": "97fb3982e9fd875e",
   "execution_count": 11,
   "outputs": []
  },
  {
   "cell_type": "code",
   "source": [
    "class Leaf:  # Leaf node is last of three, it has a value, has not any tree\n",
    "    def __init__(self, rows):\n",
    "        self.predictions = class_counts(rows)"
   ],
   "metadata": {
    "ExecuteTime": {
     "end_time": "2024-04-30T20:34:44.757382Z",
     "start_time": "2024-04-30T20:34:44.753870Z"
    },
    "id": "c604bebb15df1927"
   },
   "id": "c604bebb15df1927",
   "execution_count": 12,
   "outputs": []
  },
  {
   "cell_type": "code",
   "source": [
    "class DecisionNode:  # A Decision Node has two branch true or false\n",
    "    def __init__(self, question, true_branch, false_branch):\n",
    "        self.question = question\n",
    "        self.true_branch = true_branch\n",
    "        self.false_branch = false_branch"
   ],
   "metadata": {
    "ExecuteTime": {
     "end_time": "2024-04-30T20:34:44.764045Z",
     "start_time": "2024-04-30T20:34:44.758528Z"
    },
    "id": "495aa85fafce9902"
   },
   "id": "495aa85fafce9902",
   "execution_count": 13,
   "outputs": []
  },
  {
   "cell_type": "code",
   "source": [
    " def predict_all(x, tree, options):\n",
    "    preditions = []\n",
    "\n",
    "    for row in x:\n",
    "        cl = classify(row, tree)\n",
    "        preditions.append(max(cl, key=cl.get))\n",
    "\n",
    "    # also I can write above code like this; preditions = [max(classify(row, tree), key=classify(row, tree).get) for row in X]\n",
    "    #   but for loop like above is more clear and understandable\n",
    "    return preditions"
   ],
   "metadata": {
    "ExecuteTime": {
     "end_time": "2024-04-30T20:34:44.770410Z",
     "start_time": "2024-04-30T20:34:44.764860Z"
    },
    "id": "505919c1c812e319"
   },
   "id": "505919c1c812e319",
   "execution_count": 14,
   "outputs": []
  },
  {
   "cell_type": "code",
   "source": [
    "def predict_one(counts):\n",
    "    predicted_val = max(counts, key=counts.get)\n",
    "    return predicted_val"
   ],
   "metadata": {
    "ExecuteTime": {
     "end_time": "2024-04-30T20:34:44.775182Z",
     "start_time": "2024-04-30T20:34:44.771068Z"
    },
    "id": "3a857cdc08c6608d"
   },
   "id": "3a857cdc08c6608d",
   "execution_count": 15,
   "outputs": []
  },
  {
   "cell_type": "code",
   "source": [
    "def show_my_tree(node, space=\"\"):\n",
    "    if isinstance(node, Leaf):\n",
    "        print(space + \"Predict\", predict_one(node.predictions)) # To write in line as a same indent\n",
    "        return\n",
    "\n",
    "    print(space + str(node.question)) # Ask question\n",
    "\n",
    "    print(space + '--> False/Left:')\n",
    "    show_my_tree(node.false_branch, space + \"  \")\n",
    "\n",
    "    print(space + '--> True/Right:')\n",
    "    show_my_tree(node.true_branch, space + \"  \")"
   ],
   "metadata": {
    "ExecuteTime": {
     "end_time": "2024-04-30T20:34:44.782603Z",
     "start_time": "2024-04-30T20:34:44.775852Z"
    },
    "id": "985d5ed887390c0d"
   },
   "id": "985d5ed887390c0d",
   "execution_count": 16,
   "outputs": []
  },
  {
   "cell_type": "code",
   "source": [
    "def classify(row, node):\n",
    "    if isinstance(node, Leaf):\n",
    "        return node.predictions\n",
    "\n",
    "    if node.question.compare(row):\n",
    "        return classify(row, node.true_branch)\n",
    "    else:\n",
    "        return classify(row, node.false_branch)"
   ],
   "metadata": {
    "ExecuteTime": {
     "end_time": "2024-04-30T20:34:44.790849Z",
     "start_time": "2024-04-30T20:34:44.783272Z"
    },
    "id": "8931afbc853a5d61"
   },
   "id": "8931afbc853a5d61",
   "execution_count": 17,
   "outputs": []
  },
  {
   "cell_type": "code",
   "source": [
    "def print_leaf(counts):\n",
    "    total = sum(counts.values()) * 1.0\n",
    "    probs = {}\n",
    "    for lbl in counts.keys():\n",
    "        probs[lbl] = str(int(counts[lbl] / total * 100)) + \"%\"\n",
    "    return probs"
   ],
   "metadata": {
    "ExecuteTime": {
     "end_time": "2024-04-30T20:34:44.796975Z",
     "start_time": "2024-04-30T20:34:44.791904Z"
    },
    "id": "17d0c4caf0f6bead"
   },
   "id": "17d0c4caf0f6bead",
   "execution_count": 18,
   "outputs": []
  },
  {
   "cell_type": "code",
   "source": [
    "def builder_without_pruning(rows, attribute_types):\n",
    "    gain, question = find_the_best_split(rows)\n",
    "\n",
    "    if gain == 0:\n",
    "        return Leaf(rows)\n",
    "\n",
    "    true_rows, false_rows = partitioner(rows, question)\n",
    "    true_branch = builder_without_pruning(true_rows, attribute_types)  # Recursive call without pruning\n",
    "    false_branch = builder_without_pruning(false_rows, attribute_types)  # Recursive call without pruning\n",
    "\n",
    "    return DecisionNode(question, true_branch, false_branch)"
   ],
   "metadata": {
    "ExecuteTime": {
     "end_time": "2024-04-30T20:34:44.802746Z",
     "start_time": "2024-04-30T20:34:44.797616Z"
    },
    "id": "80cb3a50dba8e9a3"
   },
   "id": "80cb3a50dba8e9a3",
   "execution_count": 19,
   "outputs": []
  },
  {
   "cell_type": "code",
   "source": [
    "def builder_with_pruning(rows, max_depth, attribute_types, curr_depth=0):\n",
    "    if curr_depth <= max_depth:\n",
    "        gain, question = find_the_best_split(rows)\n",
    "\n",
    "        if gain == 0:\n",
    "            return Leaf(rows)\n",
    "\n",
    "        true_rows, false_rows = partitioner(rows, question)\n",
    "        true_branch = builder_with_pruning(true_rows, max_depth, attribute_types, curr_depth + 1)  # Recursive call\n",
    "        false_branch = builder_with_pruning(false_rows, max_depth, attribute_types, curr_depth + 1)  # Recursive call\n",
    "\n",
    "        return DecisionNode(question, true_branch, false_branch)\n",
    "\n",
    "    return Leaf(rows)"
   ],
   "metadata": {
    "ExecuteTime": {
     "end_time": "2024-04-30T20:34:44.808638Z",
     "start_time": "2024-04-30T20:34:44.803296Z"
    },
    "id": "8e5ac29f322dbfd1"
   },
   "id": "8e5ac29f322dbfd1",
   "execution_count": 20,
   "outputs": []
  },
  {
   "cell_type": "code",
   "source": [
    "def build_dt(X, y, attribute_types, options):\n",
    "    rows = np.concatenate((X, y), axis=1).tolist()\n",
    "\n",
    "    if options[\"pruning\"]:\n",
    "        return builder_with_pruning(rows, options[\"max_depth\"], attribute_types)\n",
    "    elif not options[\"pruning\"]:\n",
    "        return builder_without_pruning(rows, attribute_types)"
   ],
   "metadata": {
    "ExecuteTime": {
     "end_time": "2024-04-30T20:34:44.814611Z",
     "start_time": "2024-04-30T20:34:44.809085Z"
    },
    "id": "3822650cb6e90798"
   },
   "id": "3822650cb6e90798",
   "execution_count": 21,
   "outputs": []
  },
  {
   "cell_type": "code",
   "source": [
    "def predict_dt(dt, X, options):\n",
    "    return np.array(predict_all(X, dt, options))"
   ],
   "metadata": {
    "ExecuteTime": {
     "end_time": "2024-04-30T20:34:44.820394Z",
     "start_time": "2024-04-30T20:34:44.815431Z"
    },
    "id": "3f181dbfc8bd7efb"
   },
   "id": "3f181dbfc8bd7efb",
   "execution_count": 22,
   "outputs": []
  },
  {
   "cell_type": "code",
   "source": [
    "X = abalone_df.iloc[:, :-1].values\n",
    "y = abalone_df.iloc[:, -1].values.reshape(-1, 1)\n",
    "\n",
    "options = {\"max_depth\": 5, \"pruning\": False}\n",
    "attribute_types = abalone_df.dtypes.apply(str).tolist()\n",
    "X_train, X_test, y_train, y_test = train_test_split(X, y, test_size=.2, random_state=41)"
   ],
   "metadata": {
    "ExecuteTime": {
     "end_time": "2024-04-30T20:34:44.827330Z",
     "start_time": "2024-04-30T20:34:44.820931Z"
    },
    "id": "a21dfdfa75164389"
   },
   "id": "a21dfdfa75164389",
   "execution_count": 23,
   "outputs": []
  },
  {
   "cell_type": "markdown",
   "source": [
    "### Show Tree"
   ],
   "metadata": {
    "collapsed": false,
    "id": "7f2416a019d1ac0e"
   },
   "id": "7f2416a019d1ac0e"
  },
  {
   "cell_type": "code",
   "source": [
    "my_tree = build_dt(X_train, y_train, attribute_types, options)\n",
    "y_pred = predict_dt(my_tree, X_test, options)\n",
    "show_my_tree(my_tree)"
   ],
   "metadata": {
    "ExecuteTime": {
     "end_time": "2024-04-30T20:34:53.955681Z",
     "start_time": "2024-04-30T20:34:44.828420Z"
    },
    "colab": {
     "base_uri": "https://localhost:8080/"
    },
    "id": "435d9bc90f1fab98",
    "outputId": "bf75b985-8000-4671-ca3a-780957351cb8"
   },
   "id": "435d9bc90f1fab98",
   "execution_count": 24,
   "outputs": []
  },
  {
   "cell_type": "markdown",
   "source": [
    "### Find Confusion Matrices Without K-fold Cross Validation"
   ],
   "metadata": {
    "collapsed": false,
    "id": "ef6a14793e5b56d7"
   },
   "id": "ef6a14793e5b56d7"
  },
  {
   "cell_type": "code",
   "source": [
    "print(f\"Accuarcy score: {accuracy_score(y_test, y_pred)}\")\n",
    "confusion_matrix(y_test, y_pred)"
   ],
   "metadata": {
    "ExecuteTime": {
     "end_time": "2024-04-30T20:34:53.961760Z",
     "start_time": "2024-04-30T20:34:53.956430Z"
    },
    "colab": {
     "base_uri": "https://localhost:8080/"
    },
    "id": "a604929f3968b701",
    "outputId": "79ee29df-7a69-4699-d8dc-f7c3cac2f561"
   },
   "id": "a604929f3968b701",
   "execution_count": 25,
   "outputs": []
  },
  {
   "cell_type": "markdown",
   "source": [
    "### Find Confusion Matrices With K-fold Cross Validation"
   ],
   "metadata": {
    "collapsed": false,
    "id": "81c726e25590e628"
   },
   "id": "81c726e25590e628"
  },
  {
   "cell_type": "code",
   "source": [
    "kf = KFold(n_splits=6, shuffle=True, random_state=42)\n",
    "# Lists to store accuracy scores & confusion_matrices for each fold\n",
    "\n",
    "def cross_val(options):\n",
    "    # Perform k-fold cross-validation via kf.split(X_train), this function give me an indexes subset of X_train\n",
    "    accuracy_scores = []\n",
    "    confusion_matrices = []\n",
    "\n",
    "    for train_index, val_index in kf.split(X):\n",
    "        X_train_fold, X_val_fold = X[train_index], X[val_index]\n",
    "        y_train_fold, y_val_fold = y[train_index], y[val_index]\n",
    "\n",
    "        my_tree = build_dt(X_train_fold, y_train_fold, attribute_types, options)\n",
    "        y_pred_fold = predict_dt(my_tree, X_val_fold, options)\n",
    "\n",
    "        # Calculate accuracy and confusion_matrix for current fold\n",
    "        accuracy = accuracy_score(y_val_fold, y_pred_fold)\n",
    "        cm = confusion_matrix(y_val_fold, y_pred_fold)\n",
    "\n",
    "        # Store accuracy score and confusion_matrix\n",
    "        accuracy_scores.append(accuracy)\n",
    "        confusion_matrices.append(cm)\n",
    "\n",
    "    return accuracy_scores, confusion_matrices"
   ],
   "metadata": {
    "ExecuteTime": {
     "end_time": "2024-04-30T20:34:53.978847Z",
     "start_time": "2024-04-30T20:34:53.962395Z"
    },
    "id": "9046be5c6f21f6a"
   },
   "id": "9046be5c6f21f6a",
   "execution_count": 26,
   "outputs": []
  },
  {
   "cell_type": "code",
   "source": [
    "def plot_confusion_matrix_accuracy_score(accuracy_scores, confusion_matrices):\n",
    "    for i, score in enumerate(accuracy_scores):\n",
    "        plt.figure(figsize=(3, 3))\n",
    "        sns.heatmap(confusion_matrices[i], annot=True, fmt='d', cmap='Greens')\n",
    "        plt.title('Confusion Matrix')\n",
    "        plt.ylabel('True label')\n",
    "        i+=1\n",
    "        plt.xlabel(f'{i}. Fold cross validation Score: {score:.3f}')\n",
    "        plt.plot()\n",
    "\n",
    "    plt.show()\n",
    "\n",
    "    # Calculate average accuracy across all folds\n",
    "    avg_accuracy = np.mean(accuracy_scores)\n",
    "    print(f\"Average accuracy: {avg_accuracy}\")"
   ],
   "metadata": {
    "ExecuteTime": {
     "end_time": "2024-04-30T20:34:53.983486Z",
     "start_time": "2024-04-30T20:34:53.979453Z"
    },
    "id": "8fc2d55fe232c0e1"
   },
   "id": "8fc2d55fe232c0e1",
   "execution_count": 27,
   "outputs": []
  },
  {
   "cell_type": "markdown",
   "source": [
    "### Without pruning"
   ],
   "metadata": {
    "collapsed": false,
    "id": "290c3c063e040056"
   },
   "id": "290c3c063e040056"
  },
  {
   "cell_type": "code",
   "source": [
    "accuracy_scores, confusion_matrices = cross_val(options)\n",
    "plot_confusion_matrix_accuracy_score(accuracy_scores, confusion_matrices)"
   ],
   "metadata": {
    "ExecuteTime": {
     "end_time": "2024-04-30T20:35:47.769057Z",
     "start_time": "2024-04-30T20:34:53.984465Z"
    },
    "colab": {
     "base_uri": "https://localhost:8080/",
     "height": 1000
    },
    "id": "917438c6d7e3d84a",
    "outputId": "9734ff46-bd64-45d3-eb9f-e5b3711717cc"
   },
   "id": "917438c6d7e3d84a",
   "execution_count": 28,
   "outputs": []
  },
  {
   "cell_type": "markdown",
   "source": [
    "### With pruning"
   ],
   "metadata": {
    "collapsed": false,
    "id": "b71dad78b83983f"
   },
   "id": "b71dad78b83983f"
  },
  {
   "cell_type": "code",
   "source": [
    "options[\"pruning\"] = True\n",
    "accuracy_scores, confusion_matrices = cross_val(options)\n",
    "plot_confusion_matrix_accuracy_score(accuracy_scores, confusion_matrices)"
   ],
   "metadata": {
    "ExecuteTime": {
     "end_time": "2024-04-30T20:36:33.422999Z",
     "start_time": "2024-04-30T20:35:47.769848Z"
    },
    "colab": {
     "base_uri": "https://localhost:8080/",
     "height": 1000
    },
    "id": "52d3b9f8c5c5fc59",
    "outputId": "3c1d2f0c-a933-418e-d97b-5a2b9776467b"
   },
   "id": "52d3b9f8c5c5fc59",
   "execution_count": 29,
   "outputs": []
  },
  {
   "cell_type": "markdown",
   "source": [
    "### As you can see\n",
    "*Without cross-validation without pruning\n",
    "-> Accuarcy score:*  **~ 0.55**\n",
    "\n",
    "*With cross-validation without pruning\n",
    "-> Accuarcy score:*  **~ 0.57**\n",
    "\n",
    "*With cross-validation with pruning\n",
    "-> Accuarcy score:*  **~ 0.63**"
   ],
   "metadata": {
    "collapsed": false,
    "id": "cb4ef55ece2de2b0"
   },
   "id": "cb4ef55ece2de2b0"
  },
  {
   "cell_type": "markdown",
   "source": [
    "### Let's Go Random Forest"
   ],
   "metadata": {
    "collapsed": false,
    "id": "94c0498e32849f08"
   },
   "id": "94c0498e32849f08"
  },
  {
   "cell_type": "code",
   "source": [
    "from collections import Counter\n",
    "\n",
    "def build_rdf(X, y, attribute_types, N, options):\n",
    "    trees = []\n",
    "    for _ in range(N):\n",
    "        n_samples = X.shape[0]\n",
    "        idxs = np.random.choice(n_samples, n_samples, replace=True)\n",
    "        X_sample = X[idxs]\n",
    "        y_sample = y[idxs]\n",
    "        tree = build_dt(X_sample, y_sample, attribute_types, options)\n",
    "        trees.append(tree)\n",
    "    return trees\n",
    "\n"
   ],
   "metadata": {
    "ExecuteTime": {
     "end_time": "2024-04-30T20:36:33.426442Z",
     "start_time": "2024-04-30T20:36:33.423823Z"
    },
    "id": "96c733acc4c18491"
   },
   "id": "96c733acc4c18491",
   "execution_count": 30,
   "outputs": []
  },
  {
   "cell_type": "code",
   "source": [
    "def predict_rdf(rdf, X, options):\n",
    "    predictions = np.array([predict_dt(tree, X, options) for tree in rdf])\n",
    "    tree_preds = np.swapaxes(predictions, 0, 1)\n",
    "    predictions = np.array([most_frequently_label(pred) for pred in tree_preds])\n",
    "    return predictions\n",
    "\n",
    "def most_frequently_label(y):\n",
    "    counter = Counter(y)\n",
    "    most_common = counter.most_common(1)[0][0]\n",
    "    return most_common"
   ],
   "metadata": {
    "ExecuteTime": {
     "end_time": "2024-04-30T20:36:33.442497Z",
     "start_time": "2024-04-30T20:36:33.426980Z"
    },
    "id": "b311b49352962c30"
   },
   "id": "b311b49352962c30",
   "execution_count": 31,
   "outputs": []
  },
  {
   "cell_type": "code",
   "source": [
    "def cross_val_rdf(options, N):\n",
    "    # Perform k-fold cross-validation via kf.split(X_train), this function give me an index subset of X_train\n",
    "    accuracy_scores = []\n",
    "    confusion_matrices = []\n",
    "\n",
    "    for train_index, val_index in kf.split(X):\n",
    "        X_train_fold, X_val_fold = X[train_index], X[val_index]\n",
    "        y_train_fold, y_val_fold = y[train_index], y[val_index]\n",
    "\n",
    "        rdf = build_rdf(X_train_fold, y_train_fold, attribute_types, N, options)\n",
    "        y_pred_rdf_fold = predict_rdf(rdf, X_val_fold, options)\n",
    "\n",
    "        # Calculate accuracy and confusion_matrix for current fold\n",
    "        accuracy = accuracy_score(y_val_fold, y_pred_rdf_fold)\n",
    "        cm = confusion_matrix(y_val_fold, y_pred_rdf_fold)\n",
    "\n",
    "        # Store accuracy score and confusion_matrix\n",
    "        accuracy_scores.append(accuracy)\n",
    "        confusion_matrices.append(cm)\n",
    "\n",
    "    return accuracy_scores, confusion_matrices"
   ],
   "metadata": {
    "ExecuteTime": {
     "end_time": "2024-04-30T20:36:33.448431Z",
     "start_time": "2024-04-30T20:36:33.443038Z"
    },
    "id": "9a0d7823ee700bed"
   },
   "id": "9a0d7823ee700bed",
   "execution_count": 32,
   "outputs": []
  },
  {
   "cell_type": "code",
   "source": [
    "accuracy_scores, confusion_matrices = cross_val_rdf(options, 2)\n",
    "plot_confusion_matrix_accuracy_score(accuracy_scores, confusion_matrices)"
   ],
   "metadata": {
    "is_executing": true,
    "ExecuteTime": {
     "start_time": "2024-04-30T20:36:33.449281Z"
    },
    "colab": {
     "base_uri": "https://localhost:8080/",
     "height": 1000
    },
    "id": "fb29f1b457554cdb",
    "outputId": "7e0316fa-7dc7-4b5c-a5a2-ae2da5d76f7f"
   },
   "id": "fb29f1b457554cdb",
   "execution_count": 33,
   "outputs": []
  },
  {
   "cell_type": "markdown",
   "source": [
    "### As you can see\n",
    "*With Random Forest and N = 2\n",
    "-> Accuarcy score:*  **~ 0.60**\n",
    "\n",
    "Actually, the score is too good, because I set only N = 2 for a performance problem, even though this operation took approximately 70 seconds. So if you test N = 5 or N = 10 paramater, it will take larger processing time between 500 or 1000 seconds."
   ],
   "metadata": {
    "collapsed": false,
    "id": "760e4a3eee44c486"
   },
   "id": "760e4a3eee44c486"
  }
 ],
 "metadata": {
  "kernelspec": {
   "display_name": "Python 3",
   "language": "python",
   "name": "python3"
  },
  "language_info": {
   "codemirror_mode": {
    "name": "ipython",
    "version": 2
   },
   "file_extension": ".py",
   "mimetype": "text/x-python",
   "name": "python",
   "nbconvert_exporter": "python",
   "pygments_lexer": "ipython2",
   "version": "2.7.6"
  },
  "colab": {
   "provenance": []
  }
 },
 "nbformat": 4,
 "nbformat_minor": 5
}
