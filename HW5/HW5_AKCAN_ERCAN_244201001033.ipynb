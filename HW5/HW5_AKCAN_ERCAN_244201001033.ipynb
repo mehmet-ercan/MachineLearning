{
 "cells": [
  {
   "metadata": {},
   "cell_type": "markdown",
   "source": "# Some Imports",
   "id": "5c507b3c123245ad"
  },
  {
   "metadata": {
    "ExecuteTime": {
     "end_time": "2024-05-23T20:39:52.536473Z",
     "start_time": "2024-05-23T20:39:52.136885Z"
    }
   },
   "cell_type": "code",
   "source": [
    "import warnings\n",
    "import pandas as pd\n",
    "import numpy as np\n",
    "\n",
    "from sklearn.model_selection import train_test_split\n",
    "from sklearn.ensemble import BaggingClassifier\n",
    "\n",
    "from sklearn.neural_network import MLPClassifier\n",
    "from sklearn.metrics import accuracy_score, classification_report\n",
    "from sklearn.preprocessing import StandardScaler\n",
    "from sklearn.linear_model import Perceptron\n",
    "from sklearn.base import BaseEstimator, ClassifierMixin\n",
    "\n",
    "warnings.filterwarnings('ignore')\n",
    "pd.set_option('display.max_columns', 50)\n",
    "pd.set_option('display.max_rows', 50)"
   ],
   "id": "601891df9a02fc55",
   "outputs": [],
   "execution_count": 1
  },
  {
   "metadata": {},
   "cell_type": "markdown",
   "source": "# Part I : Select a dataset",
   "id": "400ee7e3791bfc65"
  },
  {
   "cell_type": "code",
   "id": "initial_id",
   "metadata": {
    "collapsed": true,
    "ExecuteTime": {
     "end_time": "2024-05-23T20:39:52.545984Z",
     "start_time": "2024-05-23T20:39:52.537560Z"
    }
   },
   "source": [
    "# target_url = (\"https://archive.ics.uci.edu/dataset/545/rice+cammeo+and+osmancik\")\n",
    "target_url = 'docs/Rice_Cammeo_Osmancik.csv' # if you work local dataset, faster than a link\n",
    "rice_df = pd.read_csv(target_url)"
   ],
   "outputs": [],
   "execution_count": 2
  },
  {
   "metadata": {
    "ExecuteTime": {
     "end_time": "2024-05-23T20:39:52.557042Z",
     "start_time": "2024-05-23T20:39:52.546637Z"
    }
   },
   "cell_type": "code",
   "source": [
    "X, y = rice_df.drop(columns='Class'), rice_df['Class']\n",
    "y = y.map({'Cammeo': 0, 'Osmancik': 1}) # encode labels\n",
    "\n",
    "X_train, X_test, y_train, y_test = train_test_split(X, y, test_size=0.2, random_state=42)  # Split\n",
    "\n",
    "print(X_train.shape, X_test.shape)"
   ],
   "id": "47a6dbbfee540fc5",
   "outputs": [
    {
     "name": "stdout",
     "output_type": "stream",
     "text": [
      "(3048, 7) (762, 7)\n"
     ]
    }
   ],
   "execution_count": 3
  },
  {
   "metadata": {
    "ExecuteTime": {
     "end_time": "2024-05-23T20:39:52.563310Z",
     "start_time": "2024-05-23T20:39:52.557625Z"
    }
   },
   "cell_type": "code",
   "source": [
    "# Standardize the data\n",
    "scaler = StandardScaler()\n",
    "X_train = scaler.fit_transform(X_train)\n",
    "X_test = scaler.transform(X_test)"
   ],
   "id": "9bfe786431a21e87",
   "outputs": [],
   "execution_count": 4
  },
  {
   "metadata": {},
   "cell_type": "markdown",
   "source": "# Part II: Train a multi-layer perceptron",
   "id": "91341fad65a2275a"
  },
  {
   "metadata": {
    "ExecuteTime": {
     "end_time": "2024-05-23T20:41:05.098339Z",
     "start_time": "2024-05-23T20:39:52.564451Z"
    }
   },
   "cell_type": "code",
   "source": [
    "# Only MLP\n",
    "mlp_base = MLPClassifier(hidden_layer_sizes=(100,), max_iter=500, random_state=42)\n",
    "mlp_base.fit(X_train, y_train)\n",
    "y_pred_mlp = mlp_base.predict(X_test)\n",
    "\n",
    "print(\"Only MLP Classifier Accuracy:\", accuracy_score(y_test, y_pred_mlp))\n",
    "print(\"Classification Report for Only MLP Classifier:\\n\", classification_report(y_test, y_pred_mlp))\n",
    "\n",
    "#AdaBoost With MLP estimator\n",
    "ada_boost = BaggingClassifier(base_estimator=mlp_base, n_estimators=50, random_state=42)\n",
    "ada_boost.fit(X_train, y_train)\n",
    "y_pred_ada = ada_boost.predict(X_test)\n",
    "\n",
    "print(\"AdaBoost with MLP Classifier Accuracy:\", accuracy_score(y_test, y_pred_ada))\n",
    "print(\"Classification Report for AdaBoost with MLP Classifier:\\n\", classification_report(y_test, y_pred_ada))"
   ],
   "id": "d4fdfa484f3e4c77",
   "outputs": [
    {
     "name": "stdout",
     "output_type": "stream",
     "text": [
      "Only MLP Classifier Accuracy: 0.9291338582677166\n",
      "Classification Report for Only MLP Classifier:\n",
      "               precision    recall  f1-score   support\n",
      "\n",
      "           0       0.93      0.92      0.92       350\n",
      "           1       0.93      0.94      0.93       412\n",
      "\n",
      "    accuracy                           0.93       762\n",
      "   macro avg       0.93      0.93      0.93       762\n",
      "weighted avg       0.93      0.93      0.93       762\n",
      "\n",
      "AdaBoost with MLP Classifier Accuracy: 0.926509186351706\n",
      "Classification Report for AdaBoost with MLP Classifier:\n",
      "               precision    recall  f1-score   support\n",
      "\n",
      "           0       0.92      0.92      0.92       350\n",
      "           1       0.93      0.93      0.93       412\n",
      "\n",
      "    accuracy                           0.93       762\n",
      "   macro avg       0.93      0.93      0.93       762\n",
      "weighted avg       0.93      0.93      0.93       762\n",
      "\n"
     ]
    }
   ],
   "execution_count": 5
  },
  {
   "metadata": {},
   "cell_type": "markdown",
   "source": "",
   "id": "538a1856f57a8de"
  },
  {
   "metadata": {},
   "cell_type": "markdown",
   "source": "## Part III: Train a random decision forest with perceptron",
   "id": "f81250766c586d64"
  },
  {
   "metadata": {},
   "cell_type": "markdown",
   "source": "",
   "id": "f341e4bbfd5c4b13"
  },
  {
   "metadata": {
    "ExecuteTime": {
     "end_time": "2024-05-23T20:41:05.275428Z",
     "start_time": "2024-05-23T20:41:05.099572Z"
    }
   },
   "cell_type": "code",
   "source": [
    "# Custom decision tree with each node uses a Perceptron\n",
    "class PerceptronDecisionTree(BaseEstimator, ClassifierMixin):\n",
    "    def __init__(self, max_depth=3, min_samples_split=2):\n",
    "        self.max_depth = max_depth\n",
    "        self.min_samples_split = min_samples_split\n",
    "        self.tree_ = None\n",
    "\n",
    "    def fit(self, X, y):\n",
    "        self.tree_ = self._fit(X, y, depth=0)\n",
    "        return self\n",
    "\n",
    "    def _fit(self, X, y, depth):\n",
    "        if len(set(y)) == 1 or len(y) < self.min_samples_split or depth == self.max_depth:\n",
    "            return np.argmax(np.bincount(y))\n",
    "\n",
    "        perceptron = Perceptron()\n",
    "        perceptron.fit(X, y)\n",
    "\n",
    "        y_pred = perceptron.predict(X)\n",
    "        left_mask = y_pred == 0\n",
    "        right_mask = ~left_mask\n",
    "\n",
    "        if np.sum(left_mask) == 0 or np.sum(right_mask) == 0:\n",
    "            return np.argmax(np.bincount(y))\n",
    "\n",
    "        node = {\n",
    "            'perceptron': perceptron,\n",
    "            'left': self._fit(X[left_mask], y[left_mask], depth + 1),\n",
    "            'right': self._fit(X[right_mask], y[right_mask], depth + 1)\n",
    "        }\n",
    "        return node\n",
    "\n",
    "    def predict(self, X):\n",
    "        return np.array([self._predict_one(x, self.tree_) for x in X])\n",
    "\n",
    "    def _predict_one(self, x, node):\n",
    "        if isinstance(node, dict):\n",
    "            perceptron = node['perceptron']\n",
    "            y_pred = perceptron.predict([x])[0]\n",
    "            if y_pred == 0:\n",
    "                return self._predict_one(x, node['left'])\n",
    "            else:\n",
    "                return self._predict_one(x, node['right'])\n",
    "        else:\n",
    "            return node\n",
    "\n",
    "# Perceptron Decision Tree\n",
    "perceptron_tree = PerceptronDecisionTree(max_depth=5, min_samples_split=10)\n",
    "perceptron_tree.fit(X_train, y_train)\n",
    "y_pred = perceptron_tree.predict(X_test)\n",
    "\n",
    "accuracy = accuracy_score(y_test, y_pred)\n",
    "print(f'Accuracy: {accuracy:.4f}')"
   ],
   "id": "cd8b1ac28f5349e",
   "outputs": [
    {
     "name": "stdout",
     "output_type": "stream",
     "text": [
      "Accuracy: 0.9239\n"
     ]
    }
   ],
   "execution_count": 6
  }
 ],
 "metadata": {
  "kernelspec": {
   "display_name": "Python 3",
   "language": "python",
   "name": "python3"
  },
  "language_info": {
   "codemirror_mode": {
    "name": "ipython",
    "version": 2
   },
   "file_extension": ".py",
   "mimetype": "text/x-python",
   "name": "python",
   "nbconvert_exporter": "python",
   "pygments_lexer": "ipython2",
   "version": "2.7.6"
  }
 },
 "nbformat": 4,
 "nbformat_minor": 5
}
