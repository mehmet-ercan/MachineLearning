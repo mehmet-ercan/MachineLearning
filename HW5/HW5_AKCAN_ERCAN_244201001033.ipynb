{
 "cells": [
  {
   "metadata": {},
   "cell_type": "markdown",
   "source": "# Some Imports",
   "id": "5c507b3c123245ad"
  },
  {
   "metadata": {
    "ExecuteTime": {
     "end_time": "2024-05-24T19:56:35.225396Z",
     "start_time": "2024-05-24T19:56:34.795617Z"
    }
   },
   "cell_type": "code",
   "source": [
    "import pandas as pd\n",
    "import numpy as np\n",
    "import warnings\n",
    "\n",
    "from sklearn.model_selection import train_test_split\n",
    "from sklearn.preprocessing import StandardScaler\n",
    "from sklearn.neural_network import MLPClassifier\n",
    "from sklearn.metrics import accuracy_score, classification_report\n",
    "from sklearn.ensemble import BaggingClassifier\n",
    "from sklearn.base import BaseEstimator, ClassifierMixin\n",
    "from sklearn.linear_model import Perceptron\n",
    "\n",
    "warnings.filterwarnings('ignore')\n",
    "pd.set_option('display.max_columns', 50)\n",
    "pd.set_option('display.max_rows', 50)"
   ],
   "id": "601891df9a02fc55",
   "outputs": [],
   "execution_count": 1
  },
  {
   "metadata": {},
   "cell_type": "markdown",
   "source": "# Part I : Select a dataset",
   "id": "400ee7e3791bfc65"
  },
  {
   "cell_type": "code",
   "id": "initial_id",
   "metadata": {
    "collapsed": true,
    "ExecuteTime": {
     "end_time": "2024-05-24T19:56:35.246198Z",
     "start_time": "2024-05-24T19:56:35.226524Z"
    }
   },
   "source": [
    "# target_url = (\"https://archive.ics.uci.edu/dataset/545/rice+cammeo+and+osmancik\") # You have to download and extract\n",
    "target_url = 'docs/Rice_Cammeo_Osmancik.csv'  # if you work local dataset, faster than a link\n",
    "rice_df = pd.read_csv(target_url)\n",
    "rice_df.describe()"
   ],
   "outputs": [
    {
     "data": {
      "text/plain": [
       "               Area    Perimeter  Major_Axis_Length  Minor_Axis_Length  \\\n",
       "count   3810.000000  3810.000000        3810.000000        3810.000000   \n",
       "mean   12667.727559   454.239180         188.776222          86.313750   \n",
       "std     1732.367706    35.597081          17.448679           5.729817   \n",
       "min     7551.000000   359.100006         145.264465          59.532406   \n",
       "25%    11370.500000   426.144753         174.353855          82.731695   \n",
       "50%    12421.500000   448.852493         185.810059          86.434647   \n",
       "75%    13950.000000   483.683746         203.550438          90.143677   \n",
       "max    18913.000000   548.445984         239.010498         107.542450   \n",
       "\n",
       "       Eccentricity   Convex_Area       Extent  \n",
       "count   3810.000000   3810.000000  3810.000000  \n",
       "mean       0.886871  12952.496850     0.661934  \n",
       "std        0.020818   1776.972042     0.077239  \n",
       "min        0.777233   7723.000000     0.497413  \n",
       "25%        0.872402  11626.250000     0.598862  \n",
       "50%        0.889050  12706.500000     0.645361  \n",
       "75%        0.902588  14284.000000     0.726562  \n",
       "max        0.948007  19099.000000     0.861050  "
      ],
      "text/html": [
       "<div>\n",
       "<style scoped>\n",
       "    .dataframe tbody tr th:only-of-type {\n",
       "        vertical-align: middle;\n",
       "    }\n",
       "\n",
       "    .dataframe tbody tr th {\n",
       "        vertical-align: top;\n",
       "    }\n",
       "\n",
       "    .dataframe thead th {\n",
       "        text-align: right;\n",
       "    }\n",
       "</style>\n",
       "<table border=\"1\" class=\"dataframe\">\n",
       "  <thead>\n",
       "    <tr style=\"text-align: right;\">\n",
       "      <th></th>\n",
       "      <th>Area</th>\n",
       "      <th>Perimeter</th>\n",
       "      <th>Major_Axis_Length</th>\n",
       "      <th>Minor_Axis_Length</th>\n",
       "      <th>Eccentricity</th>\n",
       "      <th>Convex_Area</th>\n",
       "      <th>Extent</th>\n",
       "    </tr>\n",
       "  </thead>\n",
       "  <tbody>\n",
       "    <tr>\n",
       "      <th>count</th>\n",
       "      <td>3810.000000</td>\n",
       "      <td>3810.000000</td>\n",
       "      <td>3810.000000</td>\n",
       "      <td>3810.000000</td>\n",
       "      <td>3810.000000</td>\n",
       "      <td>3810.000000</td>\n",
       "      <td>3810.000000</td>\n",
       "    </tr>\n",
       "    <tr>\n",
       "      <th>mean</th>\n",
       "      <td>12667.727559</td>\n",
       "      <td>454.239180</td>\n",
       "      <td>188.776222</td>\n",
       "      <td>86.313750</td>\n",
       "      <td>0.886871</td>\n",
       "      <td>12952.496850</td>\n",
       "      <td>0.661934</td>\n",
       "    </tr>\n",
       "    <tr>\n",
       "      <th>std</th>\n",
       "      <td>1732.367706</td>\n",
       "      <td>35.597081</td>\n",
       "      <td>17.448679</td>\n",
       "      <td>5.729817</td>\n",
       "      <td>0.020818</td>\n",
       "      <td>1776.972042</td>\n",
       "      <td>0.077239</td>\n",
       "    </tr>\n",
       "    <tr>\n",
       "      <th>min</th>\n",
       "      <td>7551.000000</td>\n",
       "      <td>359.100006</td>\n",
       "      <td>145.264465</td>\n",
       "      <td>59.532406</td>\n",
       "      <td>0.777233</td>\n",
       "      <td>7723.000000</td>\n",
       "      <td>0.497413</td>\n",
       "    </tr>\n",
       "    <tr>\n",
       "      <th>25%</th>\n",
       "      <td>11370.500000</td>\n",
       "      <td>426.144753</td>\n",
       "      <td>174.353855</td>\n",
       "      <td>82.731695</td>\n",
       "      <td>0.872402</td>\n",
       "      <td>11626.250000</td>\n",
       "      <td>0.598862</td>\n",
       "    </tr>\n",
       "    <tr>\n",
       "      <th>50%</th>\n",
       "      <td>12421.500000</td>\n",
       "      <td>448.852493</td>\n",
       "      <td>185.810059</td>\n",
       "      <td>86.434647</td>\n",
       "      <td>0.889050</td>\n",
       "      <td>12706.500000</td>\n",
       "      <td>0.645361</td>\n",
       "    </tr>\n",
       "    <tr>\n",
       "      <th>75%</th>\n",
       "      <td>13950.000000</td>\n",
       "      <td>483.683746</td>\n",
       "      <td>203.550438</td>\n",
       "      <td>90.143677</td>\n",
       "      <td>0.902588</td>\n",
       "      <td>14284.000000</td>\n",
       "      <td>0.726562</td>\n",
       "    </tr>\n",
       "    <tr>\n",
       "      <th>max</th>\n",
       "      <td>18913.000000</td>\n",
       "      <td>548.445984</td>\n",
       "      <td>239.010498</td>\n",
       "      <td>107.542450</td>\n",
       "      <td>0.948007</td>\n",
       "      <td>19099.000000</td>\n",
       "      <td>0.861050</td>\n",
       "    </tr>\n",
       "  </tbody>\n",
       "</table>\n",
       "</div>"
      ]
     },
     "execution_count": 2,
     "metadata": {},
     "output_type": "execute_result"
    }
   ],
   "execution_count": 2
  },
  {
   "metadata": {
    "ExecuteTime": {
     "end_time": "2024-05-24T19:56:35.251210Z",
     "start_time": "2024-05-24T19:56:35.246792Z"
    }
   },
   "cell_type": "code",
   "source": [
    "X, y = rice_df.drop(columns='Class'), rice_df['Class']\n",
    "y = y.map({'Cammeo': 0, 'Osmancik': 1})  # Encode labels\n",
    "\n",
    "X_train, X_test, y_train, y_test = train_test_split(X, y, test_size=0.2, random_state=42)  # Split\n",
    "print(X_train.shape, X_test.shape)"
   ],
   "id": "47a6dbbfee540fc5",
   "outputs": [
    {
     "name": "stdout",
     "output_type": "stream",
     "text": [
      "(3048, 7) (762, 7)\n"
     ]
    }
   ],
   "execution_count": 3
  },
  {
   "metadata": {
    "ExecuteTime": {
     "end_time": "2024-05-24T19:56:35.260179Z",
     "start_time": "2024-05-24T19:56:35.252405Z"
    }
   },
   "cell_type": "code",
   "source": [
    "scaler = StandardScaler()  # Standardize\n",
    "X_train = scaler.fit_transform(X_train)\n",
    "X_test = scaler.transform(X_test)"
   ],
   "id": "9bfe786431a21e87",
   "outputs": [],
   "execution_count": 4
  },
  {
   "metadata": {},
   "cell_type": "markdown",
   "source": "# Part II: Train a multi-layer perceptron",
   "id": "91341fad65a2275a"
  },
  {
   "metadata": {
    "ExecuteTime": {
     "end_time": "2024-05-24T19:57:46.707979Z",
     "start_time": "2024-05-24T19:56:35.261028Z"
    }
   },
   "cell_type": "code",
   "source": [
    "# Only MLP\n",
    "mlp_classifier = MLPClassifier(hidden_layer_sizes=(100,), max_iter=500, random_state=42)\n",
    "mlp_classifier.fit(X_train, y_train)\n",
    "y_pred_mlp = mlp_classifier.predict(X_test)\n",
    "\n",
    "print(\"Only MLP Classifier Accuracy:\", accuracy_score(y_test, y_pred_mlp))\n",
    "print(\"Classification Report for Only MLP Classifier:\\n\", classification_report(y_test, y_pred_mlp))\n",
    "print(\"\\n\")\n",
    "\n",
    "#AdaBoost With MLP estimator\n",
    "ada_boost = BaggingClassifier(base_estimator=mlp_classifier, n_estimators=50, random_state=42)\n",
    "ada_boost.fit(X_train, y_train)\n",
    "y_pred_ada_boost = ada_boost.predict(X_test)\n",
    "\n",
    "print(\"AdaBoost with MLP Classifier Accuracy:\", accuracy_score(y_test, y_pred_ada_boost))\n",
    "print(\"Classification Report for AdaBoost with MLP Classifier:\\n\", classification_report(y_test, y_pred_ada_boost))"
   ],
   "id": "d4fdfa484f3e4c77",
   "outputs": [
    {
     "name": "stdout",
     "output_type": "stream",
     "text": [
      "Only MLP Classifier Accuracy: 0.9291338582677166\n",
      "Classification Report for Only MLP Classifier:\n",
      "               precision    recall  f1-score   support\n",
      "\n",
      "           0       0.93      0.92      0.92       350\n",
      "           1       0.93      0.94      0.93       412\n",
      "\n",
      "    accuracy                           0.93       762\n",
      "   macro avg       0.93      0.93      0.93       762\n",
      "weighted avg       0.93      0.93      0.93       762\n",
      "\n",
      "\n",
      "\n",
      "AdaBoost with MLP Classifier Accuracy: 0.926509186351706\n",
      "Classification Report for AdaBoost with MLP Classifier:\n",
      "               precision    recall  f1-score   support\n",
      "\n",
      "           0       0.92      0.92      0.92       350\n",
      "           1       0.93      0.93      0.93       412\n",
      "\n",
      "    accuracy                           0.93       762\n",
      "   macro avg       0.93      0.93      0.93       762\n",
      "weighted avg       0.93      0.93      0.93       762\n",
      "\n"
     ]
    }
   ],
   "execution_count": 5
  },
  {
   "metadata": {},
   "cell_type": "markdown",
   "source": "",
   "id": "538a1856f57a8de"
  },
  {
   "metadata": {},
   "cell_type": "markdown",
   "source": "## Part III: Train a random decision forest with perceptron",
   "id": "f81250766c586d64"
  },
  {
   "metadata": {
    "ExecuteTime": {
     "end_time": "2024-05-24T19:57:46.714854Z",
     "start_time": "2024-05-24T19:57:46.708845Z"
    }
   },
   "cell_type": "code",
   "source": [
    "# Custom decision forest tree with each node uses a Perceptron\n",
    "class PerceptronDecisionForest(BaseEstimator, ClassifierMixin):\n",
    "    def __init__(self, max_depth=3, min_samples_split=2):\n",
    "        self.maximum_depth = max_depth\n",
    "        self.minimum_samples_split = min_samples_split\n",
    "        self.tree_ = None\n",
    "\n",
    "    def fit(self, X, y):\n",
    "        self.tree_ = self._fit(X, y, depth=0)\n",
    "        return self\n",
    "\n",
    "    def _fit(self, X, y, depth):\n",
    "        if len(set(y)) == 1 or len(y) < self.minimum_samples_split or depth == self.maximum_depth:\n",
    "            return np.argmax(np.bincount(y))\n",
    "\n",
    "        perceptron = Perceptron()\n",
    "        perceptron.fit(X, y)\n",
    "\n",
    "        y_pred = perceptron.predict(X)\n",
    "        left_mask = y_pred == 0\n",
    "        right_mask = ~left_mask\n",
    "\n",
    "        if np.sum(left_mask) == 0 or np.sum(right_mask) == 0:\n",
    "            return np.argmax(np.bincount(y))\n",
    "\n",
    "        node = {\n",
    "            'perceptron': perceptron,\n",
    "            'left': self._fit(X[left_mask], y[left_mask], depth + 1),\n",
    "            'right': self._fit(X[right_mask], y[right_mask], depth + 1)\n",
    "        }\n",
    "        return node\n",
    "\n",
    "    def predict(self, X):\n",
    "        return np.array([self._predict_one(x, self.tree_) for x in X])\n",
    "\n",
    "    def _predict_one(self, x, node):\n",
    "        if isinstance(node, dict):\n",
    "            perceptron = node['perceptron']\n",
    "            y_pred = perceptron.predict([x])[0]\n",
    "            if y_pred == 0:\n",
    "                return self._predict_one(x, node['left'])\n",
    "            else:\n",
    "                return self._predict_one(x, node['right'])\n",
    "        else:\n",
    "            return node"
   ],
   "id": "cd8b1ac28f5349e",
   "outputs": [],
   "execution_count": 6
  },
  {
   "metadata": {},
   "cell_type": "markdown",
   "source": "",
   "id": "65cde8a6876469e9"
  },
  {
   "metadata": {
    "ExecuteTime": {
     "end_time": "2024-05-24T19:58:28.377363Z",
     "start_time": "2024-05-24T19:58:28.230137Z"
    }
   },
   "cell_type": "code",
   "source": [
    "# Perceptron Decision Forest Tree\n",
    "perceptron_decision_forest = PerceptronDecisionForest(max_depth=5, min_samples_split=10)\n",
    "perceptron_decision_forest.fit(X_train, y_train)\n",
    "y_pred_perceptron_dt = perceptron_decision_forest.predict(X_test)\n",
    "\n",
    "print(\"Random Decision Forest With Perceptron Classifier Accuracy:\", accuracy_score(y_test, y_pred_perceptron_dt))\n",
    "print(\"Classification Report for Random Decision Forest With Perceptron Classifier:\\n\", classification_report(y_test, y_pred_perceptron_dt))"
   ],
   "id": "b0d396b8c9a6c29e",
   "outputs": [
    {
     "name": "stdout",
     "output_type": "stream",
     "text": [
      "Random Decision Forest With Perceptron Classifier Accuracy: 0.9238845144356955\n",
      "Classification Report for Random Decision Forest With Perceptron Classifier:\n",
      "               precision    recall  f1-score   support\n",
      "\n",
      "           0       0.93      0.91      0.92       350\n",
      "           1       0.92      0.94      0.93       412\n",
      "\n",
      "    accuracy                           0.92       762\n",
      "   macro avg       0.92      0.92      0.92       762\n",
      "weighted avg       0.92      0.92      0.92       762\n",
      "\n"
     ]
    }
   ],
   "execution_count": 8
  },
  {
   "metadata": {},
   "cell_type": "code",
   "outputs": [],
   "execution_count": 7,
   "source": "",
   "id": "a0dd8fede72af9d9"
  }
 ],
 "metadata": {
  "kernelspec": {
   "display_name": "Python 3",
   "language": "python",
   "name": "python3"
  },
  "language_info": {
   "codemirror_mode": {
    "name": "ipython",
    "version": 2
   },
   "file_extension": ".py",
   "mimetype": "text/x-python",
   "name": "python",
   "nbconvert_exporter": "python",
   "pygments_lexer": "ipython2",
   "version": "2.7.6"
  }
 },
 "nbformat": 4,
 "nbformat_minor": 5
}
